{
  "nbformat": 4,
  "nbformat_minor": 0,
  "metadata": {
    "colab": {
      "provenance": []
    },
    "kernelspec": {
      "name": "python3",
      "display_name": "Python 3"
    },
    "language_info": {
      "name": "python"
    }
  },
  "cells": [
    {
      "cell_type": "code",
      "execution_count": 2,
      "metadata": {
        "id": "0NmhRMf68NsA",
        "colab": {
          "base_uri": "https://localhost:8080/"
        },
        "outputId": "a394550e-aaf4-42bf-8bc9-12a2f120c1f7"
      },
      "outputs": [
        {
          "output_type": "stream",
          "name": "stderr",
          "text": [
            "[nltk_data] Downloading collection 'all'\n",
            "[nltk_data]    | \n",
            "[nltk_data]    | Downloading package abc to /root/nltk_data...\n",
            "[nltk_data]    |   Unzipping corpora/abc.zip.\n",
            "[nltk_data]    | Downloading package alpino to /root/nltk_data...\n",
            "[nltk_data]    |   Unzipping corpora/alpino.zip.\n",
            "[nltk_data]    | Downloading package averaged_perceptron_tagger to\n",
            "[nltk_data]    |     /root/nltk_data...\n",
            "[nltk_data]    |   Unzipping taggers/averaged_perceptron_tagger.zip.\n",
            "[nltk_data]    | Downloading package averaged_perceptron_tagger_ru to\n",
            "[nltk_data]    |     /root/nltk_data...\n",
            "[nltk_data]    |   Unzipping\n",
            "[nltk_data]    |       taggers/averaged_perceptron_tagger_ru.zip.\n",
            "[nltk_data]    | Downloading package basque_grammars to\n",
            "[nltk_data]    |     /root/nltk_data...\n",
            "[nltk_data]    |   Unzipping grammars/basque_grammars.zip.\n",
            "[nltk_data]    | Downloading package bcp47 to /root/nltk_data...\n",
            "[nltk_data]    | Downloading package biocreative_ppi to\n",
            "[nltk_data]    |     /root/nltk_data...\n",
            "[nltk_data]    |   Unzipping corpora/biocreative_ppi.zip.\n",
            "[nltk_data]    | Downloading package bllip_wsj_no_aux to\n",
            "[nltk_data]    |     /root/nltk_data...\n",
            "[nltk_data]    |   Unzipping models/bllip_wsj_no_aux.zip.\n",
            "[nltk_data]    | Downloading package book_grammars to\n",
            "[nltk_data]    |     /root/nltk_data...\n",
            "[nltk_data]    |   Unzipping grammars/book_grammars.zip.\n",
            "[nltk_data]    | Downloading package brown to /root/nltk_data...\n",
            "[nltk_data]    |   Unzipping corpora/brown.zip.\n",
            "[nltk_data]    | Downloading package brown_tei to /root/nltk_data...\n",
            "[nltk_data]    |   Unzipping corpora/brown_tei.zip.\n",
            "[nltk_data]    | Downloading package cess_cat to /root/nltk_data...\n",
            "[nltk_data]    |   Unzipping corpora/cess_cat.zip.\n",
            "[nltk_data]    | Downloading package cess_esp to /root/nltk_data...\n",
            "[nltk_data]    |   Unzipping corpora/cess_esp.zip.\n",
            "[nltk_data]    | Downloading package chat80 to /root/nltk_data...\n",
            "[nltk_data]    |   Unzipping corpora/chat80.zip.\n",
            "[nltk_data]    | Downloading package city_database to\n",
            "[nltk_data]    |     /root/nltk_data...\n",
            "[nltk_data]    |   Unzipping corpora/city_database.zip.\n",
            "[nltk_data]    | Downloading package cmudict to /root/nltk_data...\n",
            "[nltk_data]    |   Unzipping corpora/cmudict.zip.\n",
            "[nltk_data]    | Downloading package comparative_sentences to\n",
            "[nltk_data]    |     /root/nltk_data...\n",
            "[nltk_data]    |   Unzipping corpora/comparative_sentences.zip.\n",
            "[nltk_data]    | Downloading package comtrans to /root/nltk_data...\n",
            "[nltk_data]    | Downloading package conll2000 to /root/nltk_data...\n",
            "[nltk_data]    |   Unzipping corpora/conll2000.zip.\n",
            "[nltk_data]    | Downloading package conll2002 to /root/nltk_data...\n",
            "[nltk_data]    |   Unzipping corpora/conll2002.zip.\n",
            "[nltk_data]    | Downloading package conll2007 to /root/nltk_data...\n",
            "[nltk_data]    | Downloading package crubadan to /root/nltk_data...\n",
            "[nltk_data]    |   Unzipping corpora/crubadan.zip.\n",
            "[nltk_data]    | Downloading package dependency_treebank to\n",
            "[nltk_data]    |     /root/nltk_data...\n",
            "[nltk_data]    |   Unzipping corpora/dependency_treebank.zip.\n",
            "[nltk_data]    | Downloading package dolch to /root/nltk_data...\n",
            "[nltk_data]    |   Unzipping corpora/dolch.zip.\n",
            "[nltk_data]    | Downloading package europarl_raw to\n",
            "[nltk_data]    |     /root/nltk_data...\n",
            "[nltk_data]    |   Unzipping corpora/europarl_raw.zip.\n",
            "[nltk_data]    | Downloading package extended_omw to\n",
            "[nltk_data]    |     /root/nltk_data...\n",
            "[nltk_data]    | Downloading package floresta to /root/nltk_data...\n",
            "[nltk_data]    |   Unzipping corpora/floresta.zip.\n",
            "[nltk_data]    | Downloading package framenet_v15 to\n",
            "[nltk_data]    |     /root/nltk_data...\n",
            "[nltk_data]    |   Unzipping corpora/framenet_v15.zip.\n",
            "[nltk_data]    | Downloading package framenet_v17 to\n",
            "[nltk_data]    |     /root/nltk_data...\n",
            "[nltk_data]    |   Unzipping corpora/framenet_v17.zip.\n",
            "[nltk_data]    | Downloading package gazetteers to /root/nltk_data...\n",
            "[nltk_data]    |   Unzipping corpora/gazetteers.zip.\n",
            "[nltk_data]    | Downloading package genesis to /root/nltk_data...\n",
            "[nltk_data]    |   Unzipping corpora/genesis.zip.\n",
            "[nltk_data]    | Downloading package gutenberg to /root/nltk_data...\n",
            "[nltk_data]    |   Unzipping corpora/gutenberg.zip.\n",
            "[nltk_data]    | Downloading package ieer to /root/nltk_data...\n",
            "[nltk_data]    |   Unzipping corpora/ieer.zip.\n",
            "[nltk_data]    | Downloading package inaugural to /root/nltk_data...\n",
            "[nltk_data]    |   Unzipping corpora/inaugural.zip.\n",
            "[nltk_data]    | Downloading package indian to /root/nltk_data...\n",
            "[nltk_data]    |   Unzipping corpora/indian.zip.\n",
            "[nltk_data]    | Downloading package jeita to /root/nltk_data...\n",
            "[nltk_data]    | Downloading package kimmo to /root/nltk_data...\n",
            "[nltk_data]    |   Unzipping corpora/kimmo.zip.\n",
            "[nltk_data]    | Downloading package knbc to /root/nltk_data...\n",
            "[nltk_data]    | Downloading package large_grammars to\n",
            "[nltk_data]    |     /root/nltk_data...\n",
            "[nltk_data]    |   Unzipping grammars/large_grammars.zip.\n",
            "[nltk_data]    | Downloading package lin_thesaurus to\n",
            "[nltk_data]    |     /root/nltk_data...\n",
            "[nltk_data]    |   Unzipping corpora/lin_thesaurus.zip.\n",
            "[nltk_data]    | Downloading package mac_morpho to /root/nltk_data...\n",
            "[nltk_data]    |   Unzipping corpora/mac_morpho.zip.\n",
            "[nltk_data]    | Downloading package machado to /root/nltk_data...\n",
            "[nltk_data]    | Downloading package masc_tagged to /root/nltk_data...\n",
            "[nltk_data]    | Downloading package maxent_ne_chunker to\n",
            "[nltk_data]    |     /root/nltk_data...\n",
            "[nltk_data]    |   Unzipping chunkers/maxent_ne_chunker.zip.\n",
            "[nltk_data]    | Downloading package maxent_treebank_pos_tagger to\n",
            "[nltk_data]    |     /root/nltk_data...\n",
            "[nltk_data]    |   Unzipping taggers/maxent_treebank_pos_tagger.zip.\n",
            "[nltk_data]    | Downloading package moses_sample to\n",
            "[nltk_data]    |     /root/nltk_data...\n",
            "[nltk_data]    |   Unzipping models/moses_sample.zip.\n",
            "[nltk_data]    | Downloading package movie_reviews to\n",
            "[nltk_data]    |     /root/nltk_data...\n",
            "[nltk_data]    |   Unzipping corpora/movie_reviews.zip.\n",
            "[nltk_data]    | Downloading package mte_teip5 to /root/nltk_data...\n",
            "[nltk_data]    |   Unzipping corpora/mte_teip5.zip.\n",
            "[nltk_data]    | Downloading package mwa_ppdb to /root/nltk_data...\n",
            "[nltk_data]    |   Unzipping misc/mwa_ppdb.zip.\n",
            "[nltk_data]    | Downloading package names to /root/nltk_data...\n",
            "[nltk_data]    |   Unzipping corpora/names.zip.\n",
            "[nltk_data]    | Downloading package nombank.1.0 to /root/nltk_data...\n",
            "[nltk_data]    | Downloading package nonbreaking_prefixes to\n",
            "[nltk_data]    |     /root/nltk_data...\n",
            "[nltk_data]    |   Unzipping corpora/nonbreaking_prefixes.zip.\n",
            "[nltk_data]    | Downloading package nps_chat to /root/nltk_data...\n",
            "[nltk_data]    |   Unzipping corpora/nps_chat.zip.\n",
            "[nltk_data]    | Downloading package omw to /root/nltk_data...\n",
            "[nltk_data]    | Downloading package omw-1.4 to /root/nltk_data...\n",
            "[nltk_data]    | Downloading package opinion_lexicon to\n",
            "[nltk_data]    |     /root/nltk_data...\n",
            "[nltk_data]    |   Unzipping corpora/opinion_lexicon.zip.\n",
            "[nltk_data]    | Downloading package panlex_swadesh to\n",
            "[nltk_data]    |     /root/nltk_data...\n",
            "[nltk_data]    | Downloading package paradigms to /root/nltk_data...\n",
            "[nltk_data]    |   Unzipping corpora/paradigms.zip.\n",
            "[nltk_data]    | Downloading package pe08 to /root/nltk_data...\n",
            "[nltk_data]    |   Unzipping corpora/pe08.zip.\n",
            "[nltk_data]    | Downloading package perluniprops to\n",
            "[nltk_data]    |     /root/nltk_data...\n",
            "[nltk_data]    |   Unzipping misc/perluniprops.zip.\n",
            "[nltk_data]    | Downloading package pil to /root/nltk_data...\n",
            "[nltk_data]    |   Unzipping corpora/pil.zip.\n",
            "[nltk_data]    | Downloading package pl196x to /root/nltk_data...\n",
            "[nltk_data]    |   Unzipping corpora/pl196x.zip.\n",
            "[nltk_data]    | Downloading package porter_test to /root/nltk_data...\n",
            "[nltk_data]    |   Unzipping stemmers/porter_test.zip.\n",
            "[nltk_data]    | Downloading package ppattach to /root/nltk_data...\n",
            "[nltk_data]    |   Unzipping corpora/ppattach.zip.\n",
            "[nltk_data]    | Downloading package problem_reports to\n",
            "[nltk_data]    |     /root/nltk_data...\n",
            "[nltk_data]    |   Unzipping corpora/problem_reports.zip.\n",
            "[nltk_data]    | Downloading package product_reviews_1 to\n",
            "[nltk_data]    |     /root/nltk_data...\n",
            "[nltk_data]    |   Unzipping corpora/product_reviews_1.zip.\n",
            "[nltk_data]    | Downloading package product_reviews_2 to\n",
            "[nltk_data]    |     /root/nltk_data...\n",
            "[nltk_data]    |   Unzipping corpora/product_reviews_2.zip.\n",
            "[nltk_data]    | Downloading package propbank to /root/nltk_data...\n",
            "[nltk_data]    | Downloading package pros_cons to /root/nltk_data...\n",
            "[nltk_data]    |   Unzipping corpora/pros_cons.zip.\n",
            "[nltk_data]    | Downloading package ptb to /root/nltk_data...\n",
            "[nltk_data]    |   Unzipping corpora/ptb.zip.\n",
            "[nltk_data]    | Downloading package punkt to /root/nltk_data...\n",
            "[nltk_data]    |   Unzipping tokenizers/punkt.zip.\n",
            "[nltk_data]    | Downloading package qc to /root/nltk_data...\n",
            "[nltk_data]    |   Unzipping corpora/qc.zip.\n",
            "[nltk_data]    | Downloading package reuters to /root/nltk_data...\n",
            "[nltk_data]    | Downloading package rslp to /root/nltk_data...\n",
            "[nltk_data]    |   Unzipping stemmers/rslp.zip.\n",
            "[nltk_data]    | Downloading package rte to /root/nltk_data...\n",
            "[nltk_data]    |   Unzipping corpora/rte.zip.\n",
            "[nltk_data]    | Downloading package sample_grammars to\n",
            "[nltk_data]    |     /root/nltk_data...\n",
            "[nltk_data]    |   Unzipping grammars/sample_grammars.zip.\n",
            "[nltk_data]    | Downloading package semcor to /root/nltk_data...\n",
            "[nltk_data]    | Downloading package senseval to /root/nltk_data...\n",
            "[nltk_data]    |   Unzipping corpora/senseval.zip.\n",
            "[nltk_data]    | Downloading package sentence_polarity to\n",
            "[nltk_data]    |     /root/nltk_data...\n",
            "[nltk_data]    |   Unzipping corpora/sentence_polarity.zip.\n",
            "[nltk_data]    | Downloading package sentiwordnet to\n",
            "[nltk_data]    |     /root/nltk_data...\n",
            "[nltk_data]    |   Unzipping corpora/sentiwordnet.zip.\n",
            "[nltk_data]    | Downloading package shakespeare to /root/nltk_data...\n",
            "[nltk_data]    |   Unzipping corpora/shakespeare.zip.\n",
            "[nltk_data]    | Downloading package sinica_treebank to\n",
            "[nltk_data]    |     /root/nltk_data...\n",
            "[nltk_data]    |   Unzipping corpora/sinica_treebank.zip.\n",
            "[nltk_data]    | Downloading package smultron to /root/nltk_data...\n",
            "[nltk_data]    |   Unzipping corpora/smultron.zip.\n",
            "[nltk_data]    | Downloading package snowball_data to\n",
            "[nltk_data]    |     /root/nltk_data...\n",
            "[nltk_data]    | Downloading package spanish_grammars to\n",
            "[nltk_data]    |     /root/nltk_data...\n",
            "[nltk_data]    |   Unzipping grammars/spanish_grammars.zip.\n",
            "[nltk_data]    | Downloading package state_union to /root/nltk_data...\n",
            "[nltk_data]    |   Unzipping corpora/state_union.zip.\n",
            "[nltk_data]    | Downloading package stopwords to /root/nltk_data...\n",
            "[nltk_data]    |   Unzipping corpora/stopwords.zip.\n",
            "[nltk_data]    | Downloading package subjectivity to\n",
            "[nltk_data]    |     /root/nltk_data...\n",
            "[nltk_data]    |   Unzipping corpora/subjectivity.zip.\n",
            "[nltk_data]    | Downloading package swadesh to /root/nltk_data...\n",
            "[nltk_data]    |   Unzipping corpora/swadesh.zip.\n",
            "[nltk_data]    | Downloading package switchboard to /root/nltk_data...\n",
            "[nltk_data]    |   Unzipping corpora/switchboard.zip.\n",
            "[nltk_data]    | Downloading package tagsets to /root/nltk_data...\n",
            "[nltk_data]    |   Unzipping help/tagsets.zip.\n",
            "[nltk_data]    | Downloading package timit to /root/nltk_data...\n",
            "[nltk_data]    |   Unzipping corpora/timit.zip.\n",
            "[nltk_data]    | Downloading package toolbox to /root/nltk_data...\n",
            "[nltk_data]    |   Unzipping corpora/toolbox.zip.\n",
            "[nltk_data]    | Downloading package treebank to /root/nltk_data...\n",
            "[nltk_data]    |   Unzipping corpora/treebank.zip.\n",
            "[nltk_data]    | Downloading package twitter_samples to\n",
            "[nltk_data]    |     /root/nltk_data...\n",
            "[nltk_data]    |   Unzipping corpora/twitter_samples.zip.\n",
            "[nltk_data]    | Downloading package udhr to /root/nltk_data...\n",
            "[nltk_data]    |   Unzipping corpora/udhr.zip.\n",
            "[nltk_data]    | Downloading package udhr2 to /root/nltk_data...\n",
            "[nltk_data]    |   Unzipping corpora/udhr2.zip.\n",
            "[nltk_data]    | Downloading package unicode_samples to\n",
            "[nltk_data]    |     /root/nltk_data...\n",
            "[nltk_data]    |   Unzipping corpora/unicode_samples.zip.\n",
            "[nltk_data]    | Downloading package universal_tagset to\n",
            "[nltk_data]    |     /root/nltk_data...\n",
            "[nltk_data]    |   Unzipping taggers/universal_tagset.zip.\n",
            "[nltk_data]    | Downloading package universal_treebanks_v20 to\n",
            "[nltk_data]    |     /root/nltk_data...\n",
            "[nltk_data]    | Downloading package vader_lexicon to\n",
            "[nltk_data]    |     /root/nltk_data...\n",
            "[nltk_data]    | Downloading package verbnet to /root/nltk_data...\n",
            "[nltk_data]    |   Unzipping corpora/verbnet.zip.\n",
            "[nltk_data]    | Downloading package verbnet3 to /root/nltk_data...\n",
            "[nltk_data]    |   Unzipping corpora/verbnet3.zip.\n",
            "[nltk_data]    | Downloading package webtext to /root/nltk_data...\n",
            "[nltk_data]    |   Unzipping corpora/webtext.zip.\n",
            "[nltk_data]    | Downloading package wmt15_eval to /root/nltk_data...\n",
            "[nltk_data]    |   Unzipping models/wmt15_eval.zip.\n",
            "[nltk_data]    | Downloading package word2vec_sample to\n",
            "[nltk_data]    |     /root/nltk_data...\n",
            "[nltk_data]    |   Unzipping models/word2vec_sample.zip.\n",
            "[nltk_data]    | Downloading package wordnet to /root/nltk_data...\n",
            "[nltk_data]    | Downloading package wordnet2021 to /root/nltk_data...\n",
            "[nltk_data]    | Downloading package wordnet2022 to /root/nltk_data...\n",
            "[nltk_data]    |   Unzipping corpora/wordnet2022.zip.\n",
            "[nltk_data]    | Downloading package wordnet31 to /root/nltk_data...\n",
            "[nltk_data]    | Downloading package wordnet_ic to /root/nltk_data...\n",
            "[nltk_data]    |   Unzipping corpora/wordnet_ic.zip.\n",
            "[nltk_data]    | Downloading package words to /root/nltk_data...\n",
            "[nltk_data]    |   Unzipping corpora/words.zip.\n",
            "[nltk_data]    | Downloading package ycoe to /root/nltk_data...\n",
            "[nltk_data]    |   Unzipping corpora/ycoe.zip.\n",
            "[nltk_data]    | \n",
            "[nltk_data]  Done downloading collection all\n"
          ]
        },
        {
          "output_type": "stream",
          "name": "stdout",
          "text": [
            "Looking in indexes: https://pypi.org/simple, https://us-python.pkg.dev/colab-wheels/public/simple/\n",
            "Requirement already satisfied: spacy in /usr/local/lib/python3.8/dist-packages (3.4.4)\n",
            "Requirement already satisfied: pathy>=0.3.5 in /usr/local/lib/python3.8/dist-packages (from spacy) (0.10.1)\n",
            "Requirement already satisfied: cymem<2.1.0,>=2.0.2 in /usr/local/lib/python3.8/dist-packages (from spacy) (2.0.7)\n",
            "Requirement already satisfied: jinja2 in /usr/local/lib/python3.8/dist-packages (from spacy) (2.11.3)\n",
            "Requirement already satisfied: smart-open<7.0.0,>=5.2.1 in /usr/local/lib/python3.8/dist-packages (from spacy) (6.3.0)\n",
            "Requirement already satisfied: srsly<3.0.0,>=2.4.3 in /usr/local/lib/python3.8/dist-packages (from spacy) (2.4.5)\n",
            "Requirement already satisfied: preshed<3.1.0,>=3.0.2 in /usr/local/lib/python3.8/dist-packages (from spacy) (3.0.8)\n",
            "Requirement already satisfied: catalogue<2.1.0,>=2.0.6 in /usr/local/lib/python3.8/dist-packages (from spacy) (2.0.8)\n",
            "Requirement already satisfied: thinc<8.2.0,>=8.1.0 in /usr/local/lib/python3.8/dist-packages (from spacy) (8.1.7)\n",
            "Requirement already satisfied: requests<3.0.0,>=2.13.0 in /usr/local/lib/python3.8/dist-packages (from spacy) (2.25.1)\n",
            "Requirement already satisfied: packaging>=20.0 in /usr/local/lib/python3.8/dist-packages (from spacy) (23.0)\n",
            "Requirement already satisfied: murmurhash<1.1.0,>=0.28.0 in /usr/local/lib/python3.8/dist-packages (from spacy) (1.0.9)\n",
            "Requirement already satisfied: numpy>=1.15.0 in /usr/local/lib/python3.8/dist-packages (from spacy) (1.21.6)\n",
            "Requirement already satisfied: pydantic!=1.8,!=1.8.1,<1.11.0,>=1.7.4 in /usr/local/lib/python3.8/dist-packages (from spacy) (1.10.4)\n",
            "Requirement already satisfied: tqdm<5.0.0,>=4.38.0 in /usr/local/lib/python3.8/dist-packages (from spacy) (4.64.1)\n",
            "Requirement already satisfied: spacy-loggers<2.0.0,>=1.0.0 in /usr/local/lib/python3.8/dist-packages (from spacy) (1.0.4)\n",
            "Requirement already satisfied: langcodes<4.0.0,>=3.2.0 in /usr/local/lib/python3.8/dist-packages (from spacy) (3.3.0)\n",
            "Requirement already satisfied: wasabi<1.1.0,>=0.9.1 in /usr/local/lib/python3.8/dist-packages (from spacy) (0.10.1)\n",
            "Requirement already satisfied: typer<0.8.0,>=0.3.0 in /usr/local/lib/python3.8/dist-packages (from spacy) (0.7.0)\n",
            "Requirement already satisfied: setuptools in /usr/local/lib/python3.8/dist-packages (from spacy) (57.4.0)\n",
            "Requirement already satisfied: spacy-legacy<3.1.0,>=3.0.10 in /usr/local/lib/python3.8/dist-packages (from spacy) (3.0.12)\n",
            "Requirement already satisfied: typing-extensions>=4.2.0 in /usr/local/lib/python3.8/dist-packages (from pydantic!=1.8,!=1.8.1,<1.11.0,>=1.7.4->spacy) (4.4.0)\n",
            "Requirement already satisfied: idna<3,>=2.5 in /usr/local/lib/python3.8/dist-packages (from requests<3.0.0,>=2.13.0->spacy) (2.10)\n",
            "Requirement already satisfied: chardet<5,>=3.0.2 in /usr/local/lib/python3.8/dist-packages (from requests<3.0.0,>=2.13.0->spacy) (4.0.0)\n",
            "Requirement already satisfied: certifi>=2017.4.17 in /usr/local/lib/python3.8/dist-packages (from requests<3.0.0,>=2.13.0->spacy) (2022.12.7)\n",
            "Requirement already satisfied: urllib3<1.27,>=1.21.1 in /usr/local/lib/python3.8/dist-packages (from requests<3.0.0,>=2.13.0->spacy) (1.24.3)\n",
            "Requirement already satisfied: blis<0.8.0,>=0.7.8 in /usr/local/lib/python3.8/dist-packages (from thinc<8.2.0,>=8.1.0->spacy) (0.7.9)\n",
            "Requirement already satisfied: confection<1.0.0,>=0.0.1 in /usr/local/lib/python3.8/dist-packages (from thinc<8.2.0,>=8.1.0->spacy) (0.0.4)\n",
            "Requirement already satisfied: click<9.0.0,>=7.1.1 in /usr/local/lib/python3.8/dist-packages (from typer<0.8.0,>=0.3.0->spacy) (7.1.2)\n",
            "Requirement already satisfied: MarkupSafe>=0.23 in /usr/local/lib/python3.8/dist-packages (from jinja2->spacy) (2.0.1)\n"
          ]
        },
        {
          "output_type": "stream",
          "name": "stderr",
          "text": [
            "/usr/local/lib/python3.8/dist-packages/torch/cuda/__init__.py:497: UserWarning: Can't initialize NVML\n",
            "  warnings.warn(\"Can't initialize NVML\")\n"
          ]
        }
      ],
      "source": [
        "import pstats\n",
        "import string\n",
        "import pandas as pd\n",
        "import re as regularExpression\n",
        "from sklearn.metrics import accuracy_score, classification_report, confusion_matrix\n",
        "from sklearn.model_selection import train_test_split\n",
        "from sklearn.feature_extraction.text import TfidfVectorizer\n",
        "from sklearn.naive_bayes import MultinomialNB\n",
        "from nltk.corpus import stopwords\n",
        "import nltk\n",
        "from nltk.tokenize import word_tokenize\n",
        "from nltk.stem import WordNetLemmatizer\n",
        "from sklearn.linear_model import LogisticRegression\n",
        "import numpy as np\n",
        "import matplotlib.pyplot as plt\n",
        "from sklearn.model_selection import KFold\n",
        "from sklearn.model_selection import cross_val_score\n",
        "from textblob import TextBlob, Word\n",
        "import nltk\n",
        "from gensim.utils import lemmatize\n",
        "nltk.download('all')\n",
        "!pip install spacy\n",
        "import spacy\n",
        "from sklearn.model_selection import GridSearchCV\n",
        "nlp = spacy.load('en_core_web_sm')\n",
        "import statistics\n",
        "from sklearn.feature_extraction.text import CountVectorizer\n",
        "from sklearn.svm import LinearSVC"
      ]
    },
    {
      "cell_type": "markdown",
      "source": [
        "This is utilised to upload the IMBD dataset as colab can have issues uploading large datasets."
      ],
      "metadata": {
        "id": "l6FBtrz0HdDe"
      }
    },
    {
      "cell_type": "code",
      "source": [
        "    from google.colab import files\n",
        "    uploaded = files.upload()"
      ],
      "metadata": {
        "id": "gZRcM8W3HcI-"
      },
      "execution_count": null,
      "outputs": []
    },
    {
      "cell_type": "markdown",
      "source": [
        "This code is utilised to clean the IMBD Movie Review dataset.\n"
      ],
      "metadata": {
        "id": "L9BaBysEHE6g"
      }
    },
    {
      "cell_type": "code",
      "source": [
        "#Tokenise the review\n",
        "def tokenizeReview(review):\n",
        "    return nltk.word_tokenize(str(review))\n",
        "\n",
        "#Remove all stopwords within the review\n",
        "def removeStopWords(review):\n",
        "    \n",
        "    noStopWords = []\n",
        "    \n",
        "    for word in review:\n",
        "        if word not in stopwords.words(\"english\"):\n",
        "            noStopWords.append(word)\n",
        "\n",
        "    return noStopWords\n",
        "\n",
        "#Make the review lowercase\n",
        "def toLowerCase(review):\n",
        "    return review.lower()\n",
        "\n",
        "#Remove all HTML in a review\n",
        "def removeHTML(review):\n",
        "    cleaner = regularExpression.compile('<.*?>')\n",
        "    noHTML = regularExpression.sub(cleaner, '', review)\n",
        "    return noHTML\n",
        "\n",
        "#Remove all links within a review\n",
        "def removeLinks(review):\n",
        "    cleaner = regularExpression.compile('https?://\\S+|www\\.\\S+')\n",
        "    noLinks = regularExpression.sub(cleaner, '', review)\n",
        "    return noLinks\n",
        "\n",
        "#Remove all punctuation with a review  \n",
        "def removePunctuation(review):\n",
        "    cleaner = regularExpression.compile('[^a-zA-Z]')\n",
        "    review = regularExpression.sub(cleaner, ' ', review)\n",
        "    return review\n",
        "\n",
        "#Remove all spaces that ocurr twice within a review.\n",
        "def removeDoubleSpace(review):\n",
        "    cleaner = regularExpression.compile(' +')\n",
        "    review = regularExpression.sub(cleaner, ' ', review)\n",
        "    return review\n",
        "\n",
        "#Use the wordnet lammatizer to lammatize a review.\n",
        "def lemmatizeReviewWordNet(review):\n",
        "  lemmatizer = WordNetLemmatizer()\n",
        "  review = lemmatizer.lemmatize(review)\n",
        "  return review\n",
        "\n",
        "#Use a TextBlob lammatizer to lammatize the review.\n",
        "def lemmantizeReviewTextBlob(review):\n",
        "  w = Word(review)\n",
        "  lemmanntizedWord = w.lemmatize()\n",
        "\n",
        "#Function to call all pre-processing functions to ensure data is clean.\n",
        "def cleanData(review):\n",
        "    noHTML = removeHTML(review)\n",
        "    noLinks = removeLinks(noHTML)\n",
        "    lowerCase = toLowerCase(noLinks)\n",
        "    noPunctuation = removePunctuation(lowerCase)\n",
        "    noDoubleSpace = removeDoubleSpace(noPunctuation)\n",
        "    #lemmatizedReview = lemmantizeReviewTextBlob(noDoubleSpace)\n",
        "    lemmatizedReview = lemmatizeReviewWordNet(noDoubleSpace)\n",
        "    tokenizedReview = tokenizeReview(noDoubleSpace)\n",
        "    noStopWords = removeStopWords(tokenizedReview)\n",
        "\n",
        "    return tokenizedReview\n",
        "\n",
        "#Relabel's the sentiment to 1 if positive 0 otherwise.\n",
        "def relabelSentiment(sentiment):\n",
        "    if(sentiment == \"positive\"): return 1\n",
        "    else: return 0\n",
        "\n",
        "def main():\n",
        "    \n",
        "    #Read in the movieReview dataset.\n",
        "    movieReviewsdf = pd.read_csv('/content/IMDB Dataset.csv')\n",
        "    \n",
        "    #Print the first couple of rows.\n",
        "    print(movieReviewsdf.head())\n",
        "    \n",
        "    #Relabel the sentiment to be either 0 or 1\n",
        "    movieReviewsdf['sentiment'] = movieReviewsdf['sentiment'].apply(relabelSentiment)\n",
        "    \n",
        "    #print the head to see the change of the sentiment to 0 or 1\n",
        "    print(movieReviewsdf.head())\n",
        "    \n",
        "    #This is downloaded here as it can take a while to download.\n",
        "    nltk.download('stopwords')\n",
        "    \n",
        "    #Clean all data within the movieReviewdf\n",
        "    movieReviewsdf['review'] = movieReviewsdf['review'].apply(cleanData)\n",
        "\n",
        "main()"
      ],
      "metadata": {
        "colab": {
          "base_uri": "https://localhost:8080/"
        },
        "id": "f36JwCKKDrvg",
        "outputId": "4354ff9e-da42-4ad7-cfde-3681fb15de7a"
      },
      "execution_count": null,
      "outputs": [
        {
          "output_type": "stream",
          "name": "stdout",
          "text": [
            "                                              review sentiment\n",
            "0  One of the other reviewers has mentioned that ...  positive\n",
            "1  A wonderful little production. <br /><br />The...  positive\n",
            "2  I thought this was a wonderful way to spend ti...  positive\n",
            "3  Basically there's a family where a little boy ...  negative\n",
            "4  Petter Mattei's \"Love in the Time of Money\" is...  positive\n",
            "                                              review  sentiment\n",
            "0  One of the other reviewers has mentioned that ...          1\n",
            "1  A wonderful little production. <br /><br />The...          1\n",
            "2  I thought this was a wonderful way to spend ti...          1\n",
            "3  Basically there's a family where a little boy ...          0\n",
            "4  Petter Mattei's \"Love in the Time of Money\" is...          1\n"
          ]
        },
        {
          "output_type": "stream",
          "name": "stderr",
          "text": [
            "[nltk_data] Downloading package stopwords to /root/nltk_data...\n",
            "[nltk_data]   Package stopwords is already up-to-date!\n"
          ]
        }
      ]
    },
    {
      "cell_type": "markdown",
      "source": [
        "Hold-out cross-validation used with a 0.3 split. Create the test and training data."
      ],
      "metadata": {
        "id": "omqRLGJIw4Qh"
      }
    },
    {
      "cell_type": "code",
      "source": [
        "trainingData, testingData = train_test_split(movieReviewsdf, test_size = 0.3, random_state = 25)"
      ],
      "metadata": {
        "colab": {
          "base_uri": "https://localhost:8080/"
        },
        "id": "8efJvwx1Gjup",
        "outputId": "2c7e4f8d-9756-4134-8905-3b4d8741fd4c"
      },
      "execution_count": 5,
      "outputs": [
        {
          "output_type": "stream",
          "name": "stdout",
          "text": [
            "   Unnamed: 0                                             review  sentiment\n",
            "0           0  ['one', 'reviewers', 'mentioned', 'watching', ...          1\n",
            "1           1  ['wonderful', 'little', 'production', 'filming...          1\n",
            "2           2  ['thought', 'wonderful', 'way', 'spend', 'time...          1\n",
            "3           3  ['basically', 'family', 'little', 'boy', 'jake...          0\n",
            "4           4  ['petter', 'mattei', 'love', 'time', 'money', ...          1\n"
          ]
        }
      ]
    },
    {
      "cell_type": "markdown",
      "source": [
        "Create the xTraining, yTraining xTest and yTest data."
      ],
      "metadata": {
        "id": "BoDcuMtQJMZa"
      }
    },
    {
      "cell_type": "code",
      "source": [
        "xTraining, yTraining = trainingData['review'], trainingData['sentiment']\n",
        "xTest, yTest = testingData['review'], testingData['sentiment']\n",
        "\n"
      ],
      "metadata": {
        "id": "KRJEVIDvbZLG"
      },
      "execution_count": 16,
      "outputs": []
    },
    {
      "cell_type": "markdown",
      "source": [
        "Create the TfidVectorizer and utilise it to create the trainingVector."
      ],
      "metadata": {
        "id": "L5OuOCZuJesw"
      }
    },
    {
      "cell_type": "code",
      "source": [
        "tfidfVector = TfidfVectorizer()\n",
        "xTrainingVector = tfidfVector.fit_transform(xTraining)"
      ],
      "metadata": {
        "id": "kHnjI5WSbed_"
      },
      "execution_count": 17,
      "outputs": []
    },
    {
      "cell_type": "markdown",
      "source": [
        "Create the xTestVector utilsing the Vectorizer."
      ],
      "metadata": {
        "id": "JKfBLAybJo8t"
      }
    },
    {
      "cell_type": "code",
      "source": [
        "xTestVector = tfidfVector.transform(xTest)"
      ],
      "metadata": {
        "id": "BQEFV7JvbiM2"
      },
      "execution_count": 18,
      "outputs": []
    },
    {
      "cell_type": "markdown",
      "source": [
        "Create the Naive Bayes model utilsing sklearn's library. \n",
        "Test the model utilising the training vector."
      ],
      "metadata": {
        "id": "ZvfM0xxSJ1hO"
      }
    },
    {
      "cell_type": "code",
      "source": [
        "multiNB = MultinomialNB()\n",
        "multiNB.fit(xTrainingVector, yTraining.values)"
      ],
      "metadata": {
        "colab": {
          "base_uri": "https://localhost:8080/"
        },
        "id": "FOnHytDzbluu",
        "outputId": "edece9db-55ba-40cb-b6c3-6a332ca02c2b"
      },
      "execution_count": 19,
      "outputs": [
        {
          "output_type": "execute_result",
          "data": {
            "text/plain": [
              "MultinomialNB()"
            ]
          },
          "metadata": {},
          "execution_count": 19
        }
      ]
    },
    {
      "cell_type": "markdown",
      "source": [
        "Evaluate the model utilsing the accuracy score, classification report and confustion matrix."
      ],
      "metadata": {
        "id": "-macoZFbKBqh"
      }
    },
    {
      "cell_type": "code",
      "source": [
        "predictNB = multiNB.predict(xTestVector)\n",
        "accuracyScoreMNB1 = accuracy_score(yTest, predictNB)\n",
        "print(\"Classification Report: \\n\", classification_report(yTest, predictNB))\n",
        "print(\"Confusion Matrix: \\n\", confusion_matrix(yTest, predictNB))\n",
        "print(\"Accuracy: \\n\", accuracyScoreMNB1)"
      ],
      "metadata": {
        "colab": {
          "base_uri": "https://localhost:8080/"
        },
        "id": "KwntxyxRbnnG",
        "outputId": "9b568e9c-49ce-492d-f747-8c14c3b2f22e"
      },
      "execution_count": 20,
      "outputs": [
        {
          "output_type": "stream",
          "name": "stdout",
          "text": [
            "Classification Report: \n",
            "               precision    recall  f1-score   support\n",
            "\n",
            "           0       0.86      0.88      0.87      7599\n",
            "           1       0.87      0.86      0.87      7401\n",
            "\n",
            "    accuracy                           0.87     15000\n",
            "   macro avg       0.87      0.87      0.87     15000\n",
            "weighted avg       0.87      0.87      0.87     15000\n",
            "\n",
            "Confusion Matrix: \n",
            " [[6672  927]\n",
            " [1042 6359]]\n",
            "Accuracy: \n",
            " 0.8687333333333334\n"
          ]
        }
      ]
    },
    {
      "cell_type": "markdown",
      "source": [
        "Create another model, with the same split and random state. Utilising the different Vectorizer, now CountVectorizer is utilized. This shows that tfidfVectorizer is much better."
      ],
      "metadata": {
        "id": "fNdUjk1EKW4_"
      }
    },
    {
      "cell_type": "code",
      "source": [
        "trainingData, testingData = train_test_split(movieReviewsdf, test_size = 0.3, random_state = 25)\n",
        "\n",
        "xTraining, yTraining = trainingData['review'], trainingData['sentiment']\n",
        "xTest, yTest = testingData['review'], testingData['sentiment']\n",
        "\n",
        "tfidfVector = CountVectorizer()\n",
        "xTrainingVector = tfidfVector.fit_transform(xTraining)\n",
        "xTestVector = tfidfVector.transform(xTest)\n",
        "multiNB = MultinomialNB()\n",
        "multiNB.fit(xTrainingVector, yTraining.values)\n",
        "predictNB = multiNB.predict(xTestVector)\n",
        "accuracyScoreMNB2 = accuracy_score(yTest, predictNB)\n",
        "print(\"Classification Report: \\n\", classification_report(yTest, predictNB))\n",
        "print(\"Confusion Matrix: \\n\", confusion_matrix(yTest, predictNB))\n",
        "print(\"Accuracy: \\n\", accuracyScoreMNB2)"
      ],
      "metadata": {
        "colab": {
          "base_uri": "https://localhost:8080/"
        },
        "id": "mUCpmGA_kitV",
        "outputId": "7b20be1c-1bf0-413b-ccda-31227c7c3978"
      },
      "execution_count": 21,
      "outputs": [
        {
          "output_type": "stream",
          "name": "stdout",
          "text": [
            "Classification Report: \n",
            "               precision    recall  f1-score   support\n",
            "\n",
            "           0       0.85      0.88      0.86      7599\n",
            "           1       0.87      0.84      0.85      7401\n",
            "\n",
            "    accuracy                           0.86     15000\n",
            "   macro avg       0.86      0.86      0.86     15000\n",
            "weighted avg       0.86      0.86      0.86     15000\n",
            "\n",
            "Confusion Matrix: \n",
            " [[6684  915]\n",
            " [1196 6205]]\n",
            "Accuracy: \n",
            " 0.8592666666666666\n"
          ]
        }
      ]
    },
    {
      "cell_type": "markdown",
      "source": [
        "Create mutliple models in order to find the best test train split for the Naive Bayes model. Starting from 0.05 and going to 0.95. Increasing by 0.05 each time."
      ],
      "metadata": {
        "id": "FbJWWwJIKqjP"
      }
    },
    {
      "cell_type": "code",
      "source": [
        "myAccuracy = [[]]\n",
        "myMatrix = []\n",
        "myReport = []\n",
        "testSizes = []\n",
        "\n",
        "    \n",
        "for x in range (5, 95, 5):\n",
        "    testSizes.append(x/100)\n",
        "\n",
        "for i in range(len(testSizes)):\n",
        "    myAccuracy.append([])\n",
        "    for x in range(0, 10):\n",
        "        trainingData, testingData = train_test_split(movieReviewsdf, test_size = testSizes[i], random_state = 42)\n",
        "\n",
        "        xTraining, yTraining = trainingData['review'], trainingData['sentiment']\n",
        "        xTest, yTest = testingData['review'], testingData['sentiment']\n",
        "\n",
        "        tfidfVector = TfidfVectorizer()\n",
        "        xTrainingVector = tfidfVector.fit_transform(xTraining)\n",
        "  \n",
        "        xTestVector = tfidfVector.transform(xTest)\n",
        "\n",
        "        multiNB = MultinomialNB()\n",
        "        multiNB.fit(xTrainingVector, yTraining.values)\n",
        "\n",
        "        predictNB = multiNB.predict(xTestVector)\n",
        "\n",
        "        myAccuracy[i].append(accuracy_score(yTest, predictNB))\n",
        "    \n",
        "averageAccuracy = []\n",
        "for i in range(len(testSizes)):\n",
        "    averageAccuracy.append(sum(myAccuracy[i]) / len(myAccuracy[i]))\n",
        "        "
      ],
      "metadata": {
        "colab": {
          "base_uri": "https://localhost:8080/",
          "height": 507
        },
        "id": "rN-h4cP6jhr4",
        "outputId": "f1cd524f-638c-4171-f2b4-505b3097b37d"
      },
      "execution_count": null,
      "outputs": [
        {
          "output_type": "stream",
          "name": "stdout",
          "text": [
            "Stop\n"
          ]
        },
        {
          "output_type": "error",
          "ename": "TypeError",
          "evalue": "ignored",
          "traceback": [
            "\u001b[0;31m---------------------------------------------------------------------------\u001b[0m",
            "\u001b[0;31mTypeError\u001b[0m                                 Traceback (most recent call last)",
            "\u001b[0;32m<ipython-input-22-c541e3a9d7c0>\u001b[0m in \u001b[0;36m<module>\u001b[0;34m\u001b[0m\n\u001b[1;32m     34\u001b[0m \u001b[0mprint\u001b[0m\u001b[0;34m(\u001b[0m\u001b[0;34m\"Stop\"\u001b[0m\u001b[0;34m)\u001b[0m\u001b[0;34m\u001b[0m\u001b[0;34m\u001b[0m\u001b[0m\n\u001b[1;32m     35\u001b[0m \u001b[0mplt\u001b[0m\u001b[0;34m.\u001b[0m\u001b[0mplot\u001b[0m\u001b[0;34m(\u001b[0m\u001b[0mtestSizes\u001b[0m\u001b[0;34m,\u001b[0m \u001b[0maverageAccuracy\u001b[0m\u001b[0;34m,\u001b[0m \u001b[0mlabel\u001b[0m \u001b[0;34m=\u001b[0m \u001b[0;34m\"testing size\"\u001b[0m\u001b[0;34m)\u001b[0m\u001b[0;34m\u001b[0m\u001b[0;34m\u001b[0m\u001b[0m\n\u001b[0;32m---> 36\u001b[0;31m \u001b[0mplt\u001b[0m\u001b[0;34m.\u001b[0m\u001b[0mplot\u001b[0m\u001b[0;34m(\u001b[0m\u001b[0;36m1\u001b[0m\u001b[0;34m-\u001b[0m\u001b[0mtestSizes\u001b[0m\u001b[0;34m,\u001b[0m\u001b[0maverageAccuracy\u001b[0m\u001b[0;34m,\u001b[0m \u001b[0mlabel\u001b[0m \u001b[0;34m=\u001b[0m \u001b[0;34m\"training size\"\u001b[0m \u001b[0;34m)\u001b[0m\u001b[0;34m\u001b[0m\u001b[0;34m\u001b[0m\u001b[0m\n\u001b[0m\u001b[1;32m     37\u001b[0m \u001b[0mplt\u001b[0m\u001b[0;34m.\u001b[0m\u001b[0mxlabel\u001b[0m\u001b[0;34m(\u001b[0m\u001b[0;34m\"Test Sizes\"\u001b[0m\u001b[0;34m)\u001b[0m\u001b[0;34m\u001b[0m\u001b[0;34m\u001b[0m\u001b[0m\n\u001b[1;32m     38\u001b[0m \u001b[0mplt\u001b[0m\u001b[0;34m.\u001b[0m\u001b[0mylabel\u001b[0m\u001b[0;34m(\u001b[0m\u001b[0;34m\"Accuracy\"\u001b[0m\u001b[0;34m)\u001b[0m\u001b[0;34m\u001b[0m\u001b[0;34m\u001b[0m\u001b[0m\n",
            "\u001b[0;31mTypeError\u001b[0m: unsupported operand type(s) for -: 'int' and 'list'"
          ]
        },
        {
          "output_type": "display_data",
          "data": {
            "text/plain": [
              "<Figure size 432x288 with 1 Axes>"
            ],
            "image/png": "[encoded data removed]"
          },
          "metadata": {
            "needs_background": "light"
          }
        }
      ]
    },
    {
      "cell_type": "markdown",
      "source": [
        "Plot the graph to show the accuracy against the test size and the training size for a naive bayes model. "
      ],
      "metadata": {
        "id": "YfYvVVqtK_Sg"
      }
    },
    {
      "cell_type": "code",
      "source": [
        "plt.plot(testSizes, averageAccuracy, label = \"testing size\")\n",
        "trainingSizes = []\n",
        "for x in range(0, len(testSizes)):\n",
        "  trainingSizes.append(1-testSizes[x])\n",
        "\n",
        "plt.plot(trainingSizes, averageAccuracy, label = \"training size\" )\n",
        "plt.xlabel(\"Test Sizes\")\n",
        "plt.ylabel(\"Accuracy\")"
      ],
      "metadata": {
        "colab": {
          "base_uri": "https://localhost:8080/",
          "height": 297
        },
        "id": "sZKSLCySjqlE",
        "outputId": "89693779-9ffa-459c-c6b9-8fd2557b0498"
      },
      "execution_count": null,
      "outputs": [
        {
          "output_type": "execute_result",
          "data": {
            "text/plain": [
              "Text(0, 0.5, 'Accuracy')"
            ]
          },
          "metadata": {},
          "execution_count": 26
        },
        {
          "output_type": "display_data",
          "data": {
            "text/plain": [
              "<Figure size 432x288 with 1 Axes>"
            ],
            "image/png": "[encoded data removed]"
          },
          "metadata": {
            "needs_background": "light"
          }
        }
      ]
    },
    {
      "cell_type": "markdown",
      "source": [
        "Tuning the Naive Bayes model, starting with an alpha parameter of 0.00001 increasing by a factor of 10 until 1000 is reached."
      ],
      "metadata": {
        "id": "1Y3XqOn5LHth"
      }
    },
    {
      "cell_type": "code",
      "source": [
        "averageAccuracy = []\n",
        "\n",
        "alphaParams=[0.00001, 0.0001, 0.001, 0.1, 1, 10, 100,1000]\n",
        "\n",
        "for i in range(0, len(alphaParams) ,1):\n",
        "  accuracyNB = []\n",
        "  for j in range(0, 3, 1):\n",
        " \n",
        "    trainingData, testingData = train_test_split(movieReviewsdf, test_size = 0.2, random_state = 42)\n",
        "\n",
        "    xTraining, yTraining = trainingData['review'], trainingData['sentiment']\n",
        "    xTest, yTest = testingData['review'], testingData['sentiment']\n",
        "\n",
        "    tfidfVector = TfidfVectorizer()\n",
        "    xTrainingVector = tfidfVector.fit_transform(xTraining)\n",
        "  \n",
        "    xTestVector = tfidfVector.transform(xTest)\n",
        "\n",
        "    multiNB = MultinomialNB(alpha = alphaParams[i])\n",
        "    multiNB.fit(xTrainingVector, yTraining.values)\n",
        "\n",
        "    predictNB = multiNB.predict(xTestVector)\n",
        "\n",
        "    accuracyNB.append(accuracy_score(yTest, predictNB))\n",
        "  \n",
        "  averageAccuracy.append(sum(accuracyNB)/3)\n",
        "\n",
        "for i in range(0, len(alphaParams), 1):\n",
        "  print(\"Alpha value: \", alphaParams[i], \"Accuracy value: \", averageAccuracy[i])\n",
        "\n"
      ],
      "metadata": {
        "colab": {
          "base_uri": "https://localhost:8080/"
        },
        "id": "cOljB8cV-JUt",
        "outputId": "2e152e51-efef-4adf-d0ff-d5e2df14d0f5"
      },
      "execution_count": null,
      "outputs": [
        {
          "output_type": "stream",
          "name": "stdout",
          "text": [
            "Alpha value:  1e-05 Accuracy value:  0.8176\n",
            "Alpha value:  0.0001 Accuracy value:  0.8274\n",
            "Alpha value:  0.001 Accuracy value:  0.8395\n",
            "Alpha value:  0.1 Accuracy value:  0.8614\n",
            "Alpha value:  1 Accuracy value:  0.8666\n",
            "Alpha value:  10 Accuracy value:  0.8630999999999999\n",
            "Alpha value:  100 Accuracy value:  0.8281\n",
            "Alpha value:  1000 Accuracy value:  0.7707\n"
          ]
        }
      ]
    },
    {
      "cell_type": "markdown",
      "source": [
        "Plot the accuracies of the model against the alpha value."
      ],
      "metadata": {
        "id": "TCh3qAxTLVVI"
      }
    },
    {
      "cell_type": "code",
      "source": [
        "A = [str(x) for x in alphaParams]\n",
        "print(A)\n",
        "plt.plot(A, averageAccuracy)\n",
        "plt.title('Accuracy vs Alpha Value')\n",
        "plt.xlabel('Alpha Value')\n",
        "plt.ylabel('Accuracy')\n",
        "plt.show()"
      ],
      "metadata": {
        "colab": {
          "base_uri": "https://localhost:8080/",
          "height": 313
        },
        "id": "_F4D7E01OWup",
        "outputId": "a05a2090-8473-45b2-9ec5-1c5acc245da1"
      },
      "execution_count": null,
      "outputs": [
        {
          "output_type": "stream",
          "name": "stdout",
          "text": [
            "['1e-05', '0.0001', '0.001', '0.1', '1', '10', '100', '1000']\n"
          ]
        },
        {
          "output_type": "display_data",
          "data": {
            "text/plain": [
              "<Figure size 432x288 with 1 Axes>"
            ],
            "image/png": "[encoded data removed]"
          },
          "metadata": {
            "needs_background": "light"
          }
        }
      ]
    },
    {
      "cell_type": "markdown",
      "source": [
        "Find the best alpha value between 1-10. The graph above shows the best alpha value is between 1-10. Produce each model 3 times and average to find the best alpha value.\n"
      ],
      "metadata": {
        "id": "vY0gFuMjLe-A"
      }
    },
    {
      "cell_type": "code",
      "source": [
        "averageAccuracy = []\n",
        "\n",
        "for i in range(1, 11 ,1):\n",
        "  accuracyNB = []\n",
        "  for j in range(0, 3, 1):\n",
        " \n",
        "    trainingData, testingData = train_test_split(movieReviewsdf, test_size = 0.2, random_state = 42)\n",
        "\n",
        "    xTraining, yTraining = trainingData['review'], trainingData['sentiment']\n",
        "    xTest, yTest = testingData['review'], testingData['sentiment']\n",
        "\n",
        "    tfidfVector = TfidfVectorizer()\n",
        "    xTrainingVector = tfidfVector.fit_transform(xTraining)\n",
        "  \n",
        "    xTestVector = tfidfVector.transform(xTest)\n",
        "\n",
        "    multiNB = MultinomialNB(alpha = i)\n",
        "    multiNB.fit(xTrainingVector, yTraining.values)\n",
        "\n",
        "    predictNB = multiNB.predict(xTestVector)\n",
        "\n",
        "    accuracyNB.append(accuracy_score(yTest, predictNB))\n",
        "  \n",
        "  averageAccuracy.append(sum(accuracyNB)/3)\n",
        "\n",
        "for i in range(0, 10, 1):\n",
        "  print(\"Alpha value: \", i, \"Accuracy value: \", averageAccuracy[i])"
      ],
      "metadata": {
        "colab": {
          "base_uri": "https://localhost:8080/"
        },
        "id": "iuSOXHwdIS3s",
        "outputId": "5a0b93b2-0902-4f9b-8b4a-f4e7cb96fbcb"
      },
      "execution_count": null,
      "outputs": [
        {
          "output_type": "stream",
          "name": "stdout",
          "text": [
            "Alpha value:  0 Accuracy value:  0.8666\n",
            "Alpha value:  1 Accuracy value:  0.8668\n",
            "Alpha value:  2 Accuracy value:  0.8672\n",
            "Alpha value:  3 Accuracy value:  0.8664999999999999\n",
            "Alpha value:  4 Accuracy value:  0.8652000000000001\n",
            "Alpha value:  5 Accuracy value:  0.8639\n",
            "Alpha value:  6 Accuracy value:  0.8633000000000001\n",
            "Alpha value:  7 Accuracy value:  0.8633000000000001\n",
            "Alpha value:  8 Accuracy value:  0.8637\n",
            "Alpha value:  9 Accuracy value:  0.8630999999999999\n"
          ]
        }
      ]
    },
    {
      "cell_type": "markdown",
      "source": [
        "Plot the alpha values against the accuracy for the Naive Bayes model."
      ],
      "metadata": {
        "id": "vwUEPB9dLyGI"
      }
    },
    {
      "cell_type": "code",
      "source": [
        "alphaValues = []\n",
        "for x in range(0, 10, 1):\n",
        "  alphaValues.append(x) \n",
        "\n",
        "plt.plot(alphaValues, averageAccuracy)\n",
        "plt.title('Accuracy vs Alpha Value')\n",
        "plt.xlabel('Alpha Value')\n",
        "plt.ylabel('Accuracy')\n",
        "plt.show()"
      ],
      "metadata": {
        "colab": {
          "base_uri": "https://localhost:8080/",
          "height": 295
        },
        "id": "X0QH83aqIlrD",
        "outputId": "8a3f8d7a-358d-4a8f-e984-ac79a2a35cad"
      },
      "execution_count": null,
      "outputs": [
        {
          "output_type": "display_data",
          "data": {
            "text/plain": [
              "<Figure size 432x288 with 1 Axes>"
            ],
            "image/png": "[encoded data removed]"
          },
          "metadata": {
            "needs_background": "light"
          }
        }
      ]
    },
    {
      "cell_type": "markdown",
      "source": [
        "This is a more indepth alpha value search, utilising nearly 200 alpha values."
      ],
      "metadata": {
        "id": "GMbZ3F55L7eI"
      }
    },
    {
      "cell_type": "code",
      "source": [
        "i = 0.05;\n",
        "accuracyNB2 = []\n",
        "while i < 10:\n",
        "  trainingData, testingData = train_test_split(movieReviewsdf, test_size = 0.2, random_state = 42)\n",
        "\n",
        "  xTraining, yTraining = trainingData['review'], trainingData['sentiment']\n",
        "  xTest, yTest = testingData['review'], testingData['sentiment']\n",
        "\n",
        "  tfidfVector = TfidfVectorizer()\n",
        "  xTrainingVector = tfidfVector.fit_transform(xTraining)\n",
        "  \n",
        "  xTestVector = tfidfVector.transform(xTest)\n",
        "\n",
        "  multiNB = MultinomialNB(alpha = i)\n",
        "  multiNB.fit(xTrainingVector, yTraining.values)\n",
        "\n",
        "  predictNB = multiNB.predict(xTestVector)\n",
        "\n",
        "  accuracyNB2.append(accuracy_score(yTest, predictNB))\n",
        "  print(\"Alpha: \", i, \"  Accuracy: \", accuracy_score(yTest, predictNB))\n",
        "  i+=0.05"
      ],
      "metadata": {
        "colab": {
          "base_uri": "https://localhost:8080/"
        },
        "id": "eZ3nG46YG9t0",
        "outputId": "46dedaf5-5e18-462c-9c7d-81856360065f"
      },
      "execution_count": null,
      "outputs": [
        {
          "output_type": "stream",
          "name": "stdout",
          "text": [
            "Alpha:  0.05   Accuracy:  0.8594\n",
            "Alpha:  0.1   Accuracy:  0.8614\n",
            "Alpha:  0.15000000000000002   Accuracy:  0.8636\n",
            "Alpha:  0.2   Accuracy:  0.8641\n",
            "Alpha:  0.25   Accuracy:  0.8649\n",
            "Alpha:  0.3   Accuracy:  0.8654\n",
            "Alpha:  0.35   Accuracy:  0.8657\n",
            "Alpha:  0.39999999999999997   Accuracy:  0.8652\n",
            "Alpha:  0.44999999999999996   Accuracy:  0.8656\n",
            "Alpha:  0.49999999999999994   Accuracy:  0.8653\n",
            "Alpha:  0.5499999999999999   Accuracy:  0.8652\n",
            "Alpha:  0.6   Accuracy:  0.8654\n",
            "Alpha:  0.65   Accuracy:  0.8657\n",
            "Alpha:  0.7000000000000001   Accuracy:  0.8659\n",
            "Alpha:  0.7500000000000001   Accuracy:  0.8663\n",
            "Alpha:  0.8000000000000002   Accuracy:  0.8668\n",
            "Alpha:  0.8500000000000002   Accuracy:  0.8665\n",
            "Alpha:  0.9000000000000002   Accuracy:  0.8664\n",
            "Alpha:  0.9500000000000003   Accuracy:  0.8669\n",
            "Alpha:  1.0000000000000002   Accuracy:  0.8666\n",
            "Alpha:  1.0500000000000003   Accuracy:  0.8666\n",
            "Alpha:  1.1000000000000003   Accuracy:  0.8663\n",
            "Alpha:  1.1500000000000004   Accuracy:  0.8661\n",
            "Alpha:  1.2000000000000004   Accuracy:  0.8662\n",
            "Alpha:  1.2500000000000004   Accuracy:  0.8664\n",
            "Alpha:  1.3000000000000005   Accuracy:  0.8664\n",
            "Alpha:  1.3500000000000005   Accuracy:  0.8664\n",
            "Alpha:  1.4000000000000006   Accuracy:  0.8664\n",
            "Alpha:  1.4500000000000006   Accuracy:  0.8666\n",
            "Alpha:  1.5000000000000007   Accuracy:  0.8663\n",
            "Alpha:  1.5500000000000007   Accuracy:  0.8664\n",
            "Alpha:  1.6000000000000008   Accuracy:  0.8664\n",
            "Alpha:  1.6500000000000008   Accuracy:  0.8664\n",
            "Alpha:  1.7000000000000008   Accuracy:  0.866\n",
            "Alpha:  1.7500000000000009   Accuracy:  0.8665\n",
            "Alpha:  1.800000000000001   Accuracy:  0.8665\n",
            "Alpha:  1.850000000000001   Accuracy:  0.8664\n",
            "Alpha:  1.900000000000001   Accuracy:  0.8662\n",
            "Alpha:  1.950000000000001   Accuracy:  0.8667\n",
            "Alpha:  2.000000000000001   Accuracy:  0.8668\n",
            "Alpha:  2.0500000000000007   Accuracy:  0.867\n",
            "Alpha:  2.1000000000000005   Accuracy:  0.8666\n",
            "Alpha:  2.1500000000000004   Accuracy:  0.8665\n",
            "Alpha:  2.2   Accuracy:  0.8666\n",
            "Alpha:  2.25   Accuracy:  0.8668\n",
            "Alpha:  2.3   Accuracy:  0.8667\n",
            "Alpha:  2.3499999999999996   Accuracy:  0.8669\n",
            "Alpha:  2.3999999999999995   Accuracy:  0.8667\n",
            "Alpha:  2.4499999999999993   Accuracy:  0.8669\n",
            "Alpha:  2.499999999999999   Accuracy:  0.8667\n",
            "Alpha:  2.549999999999999   Accuracy:  0.8673\n",
            "Alpha:  2.5999999999999988   Accuracy:  0.8673\n",
            "Alpha:  2.6499999999999986   Accuracy:  0.8671\n",
            "Alpha:  2.6999999999999984   Accuracy:  0.8672\n",
            "Alpha:  2.7499999999999982   Accuracy:  0.8673\n",
            "Alpha:  2.799999999999998   Accuracy:  0.867\n",
            "Alpha:  2.849999999999998   Accuracy:  0.8668\n",
            "Alpha:  2.8999999999999977   Accuracy:  0.8667\n",
            "Alpha:  2.9499999999999975   Accuracy:  0.8669\n",
            "Alpha:  2.9999999999999973   Accuracy:  0.8672\n",
            "Alpha:  3.049999999999997   Accuracy:  0.8673\n",
            "Alpha:  3.099999999999997   Accuracy:  0.8674\n",
            "Alpha:  3.149999999999997   Accuracy:  0.8672\n",
            "Alpha:  3.1999999999999966   Accuracy:  0.8671\n",
            "Alpha:  3.2499999999999964   Accuracy:  0.8674\n",
            "Alpha:  3.2999999999999963   Accuracy:  0.8671\n",
            "Alpha:  3.349999999999996   Accuracy:  0.8671\n",
            "Alpha:  3.399999999999996   Accuracy:  0.8667\n",
            "Alpha:  3.4499999999999957   Accuracy:  0.867\n",
            "Alpha:  3.4999999999999956   Accuracy:  0.8667\n",
            "Alpha:  3.5499999999999954   Accuracy:  0.8669\n",
            "Alpha:  3.599999999999995   Accuracy:  0.8667\n",
            "Alpha:  3.649999999999995   Accuracy:  0.8667\n",
            "Alpha:  3.699999999999995   Accuracy:  0.8665\n",
            "Alpha:  3.7499999999999947   Accuracy:  0.8663\n",
            "Alpha:  3.7999999999999945   Accuracy:  0.8665\n",
            "Alpha:  3.8499999999999943   Accuracy:  0.8664\n",
            "Alpha:  3.899999999999994   Accuracy:  0.8667\n",
            "Alpha:  3.949999999999994   Accuracy:  0.8666\n",
            "Alpha:  3.999999999999994   Accuracy:  0.8665\n",
            "Alpha:  4.049999999999994   Accuracy:  0.8665\n",
            "Alpha:  4.099999999999993   Accuracy:  0.8664\n",
            "Alpha:  4.149999999999993   Accuracy:  0.8663\n",
            "Alpha:  4.199999999999993   Accuracy:  0.8663\n",
            "Alpha:  4.249999999999993   Accuracy:  0.8665\n",
            "Alpha:  4.299999999999993   Accuracy:  0.8662\n",
            "Alpha:  4.3499999999999925   Accuracy:  0.8661\n",
            "Alpha:  4.399999999999992   Accuracy:  0.866\n",
            "Alpha:  4.449999999999992   Accuracy:  0.8659\n",
            "Alpha:  4.499999999999992   Accuracy:  0.8658\n",
            "Alpha:  4.549999999999992   Accuracy:  0.8659\n",
            "Alpha:  4.599999999999992   Accuracy:  0.8659\n",
            "Alpha:  4.6499999999999915   Accuracy:  0.8655\n",
            "Alpha:  4.699999999999991   Accuracy:  0.8656\n",
            "Alpha:  4.749999999999991   Accuracy:  0.8655\n",
            "Alpha:  4.799999999999991   Accuracy:  0.8655\n",
            "Alpha:  4.849999999999991   Accuracy:  0.8656\n",
            "Alpha:  4.899999999999991   Accuracy:  0.8652\n",
            "Alpha:  4.94999999999999   Accuracy:  0.8652\n",
            "Alpha:  4.99999999999999   Accuracy:  0.8652\n",
            "Alpha:  5.04999999999999   Accuracy:  0.8651\n",
            "Alpha:  5.09999999999999   Accuracy:  0.8651\n",
            "Alpha:  5.14999999999999   Accuracy:  0.865\n",
            "Alpha:  5.1999999999999895   Accuracy:  0.8649\n",
            "Alpha:  5.249999999999989   Accuracy:  0.8648\n",
            "Alpha:  5.299999999999989   Accuracy:  0.8648\n",
            "Alpha:  5.349999999999989   Accuracy:  0.8648\n",
            "Alpha:  5.399999999999989   Accuracy:  0.8647\n",
            "Alpha:  5.449999999999989   Accuracy:  0.8647\n",
            "Alpha:  5.4999999999999885   Accuracy:  0.8645\n",
            "Alpha:  5.549999999999988   Accuracy:  0.8645\n",
            "Alpha:  5.599999999999988   Accuracy:  0.8645\n",
            "Alpha:  5.649999999999988   Accuracy:  0.8647\n",
            "Alpha:  5.699999999999988   Accuracy:  0.8644\n",
            "Alpha:  5.749999999999988   Accuracy:  0.8642\n",
            "Alpha:  5.799999999999987   Accuracy:  0.8641\n",
            "Alpha:  5.849999999999987   Accuracy:  0.8641\n",
            "Alpha:  5.899999999999987   Accuracy:  0.864\n",
            "Alpha:  5.949999999999987   Accuracy:  0.864\n",
            "Alpha:  5.999999999999987   Accuracy:  0.8639\n",
            "Alpha:  6.0499999999999865   Accuracy:  0.8641\n",
            "Alpha:  6.099999999999986   Accuracy:  0.8641\n",
            "Alpha:  6.149999999999986   Accuracy:  0.8641\n",
            "Alpha:  6.199999999999986   Accuracy:  0.864\n",
            "Alpha:  6.249999999999986   Accuracy:  0.8641\n",
            "Alpha:  6.299999999999986   Accuracy:  0.864\n",
            "Alpha:  6.349999999999985   Accuracy:  0.8641\n",
            "Alpha:  6.399999999999985   Accuracy:  0.8641\n",
            "Alpha:  6.449999999999985   Accuracy:  0.864\n",
            "Alpha:  6.499999999999985   Accuracy:  0.8639\n",
            "Alpha:  6.549999999999985   Accuracy:  0.8639\n",
            "Alpha:  6.5999999999999845   Accuracy:  0.864\n",
            "Alpha:  6.649999999999984   Accuracy:  0.8638\n",
            "Alpha:  6.699999999999984   Accuracy:  0.8637\n",
            "Alpha:  6.749999999999984   Accuracy:  0.8638\n",
            "Alpha:  6.799999999999984   Accuracy:  0.8637\n",
            "Alpha:  6.849999999999984   Accuracy:  0.8636\n",
            "Alpha:  6.8999999999999835   Accuracy:  0.8636\n",
            "Alpha:  6.949999999999983   Accuracy:  0.8636\n",
            "Alpha:  6.999999999999983   Accuracy:  0.8633\n",
            "Alpha:  7.049999999999983   Accuracy:  0.8633\n",
            "Alpha:  7.099999999999983   Accuracy:  0.8635\n",
            "Alpha:  7.149999999999983   Accuracy:  0.8633\n",
            "Alpha:  7.199999999999982   Accuracy:  0.8634\n",
            "Alpha:  7.249999999999982   Accuracy:  0.8635\n",
            "Alpha:  7.299999999999982   Accuracy:  0.8635\n",
            "Alpha:  7.349999999999982   Accuracy:  0.8636\n",
            "Alpha:  7.399999999999982   Accuracy:  0.8635\n",
            "Alpha:  7.4499999999999815   Accuracy:  0.8635\n",
            "Alpha:  7.499999999999981   Accuracy:  0.8633\n",
            "Alpha:  7.549999999999981   Accuracy:  0.8633\n",
            "Alpha:  7.599999999999981   Accuracy:  0.8631\n",
            "Alpha:  7.649999999999981   Accuracy:  0.8632\n",
            "Alpha:  7.699999999999981   Accuracy:  0.8632\n",
            "Alpha:  7.7499999999999805   Accuracy:  0.8631\n",
            "Alpha:  7.79999999999998   Accuracy:  0.8632\n",
            "Alpha:  7.84999999999998   Accuracy:  0.8633\n",
            "Alpha:  7.89999999999998   Accuracy:  0.8634\n",
            "Alpha:  7.94999999999998   Accuracy:  0.8633\n",
            "Alpha:  7.99999999999998   Accuracy:  0.8633\n",
            "Alpha:  8.04999999999998   Accuracy:  0.8632\n",
            "Alpha:  8.09999999999998   Accuracy:  0.8632\n",
            "Alpha:  8.14999999999998   Accuracy:  0.8632\n",
            "Alpha:  8.199999999999982   Accuracy:  0.8631\n",
            "Alpha:  8.249999999999982   Accuracy:  0.8633\n",
            "Alpha:  8.299999999999983   Accuracy:  0.8634\n",
            "Alpha:  8.349999999999984   Accuracy:  0.8634\n",
            "Alpha:  8.399999999999984   Accuracy:  0.8634\n",
            "Alpha:  8.449999999999985   Accuracy:  0.8634\n",
            "Alpha:  8.499999999999986   Accuracy:  0.8635\n",
            "Alpha:  8.549999999999986   Accuracy:  0.8637\n",
            "Alpha:  8.599999999999987   Accuracy:  0.8635\n",
            "Alpha:  8.649999999999988   Accuracy:  0.8635\n",
            "Alpha:  8.699999999999989   Accuracy:  0.8635\n",
            "Alpha:  8.74999999999999   Accuracy:  0.8634\n",
            "Alpha:  8.79999999999999   Accuracy:  0.8635\n",
            "Alpha:  8.84999999999999   Accuracy:  0.8636\n",
            "Alpha:  8.899999999999991   Accuracy:  0.8636\n",
            "Alpha:  8.949999999999992   Accuracy:  0.8635\n",
            "Alpha:  8.999999999999993   Accuracy:  0.8637\n",
            "Alpha:  9.049999999999994   Accuracy:  0.8636\n",
            "Alpha:  9.099999999999994   Accuracy:  0.8636\n",
            "Alpha:  9.149999999999995   Accuracy:  0.8636\n",
            "Alpha:  9.199999999999996   Accuracy:  0.8636\n",
            "Alpha:  9.249999999999996   Accuracy:  0.8634\n",
            "Alpha:  9.299999999999997   Accuracy:  0.8633\n",
            "Alpha:  9.349999999999998   Accuracy:  0.8633\n",
            "Alpha:  9.399999999999999   Accuracy:  0.8631\n",
            "Alpha:  9.45   Accuracy:  0.8631\n",
            "Alpha:  9.5   Accuracy:  0.863\n",
            "Alpha:  9.55   Accuracy:  0.863\n",
            "Alpha:  9.600000000000001   Accuracy:  0.863\n",
            "Alpha:  9.650000000000002   Accuracy:  0.863\n",
            "Alpha:  9.700000000000003   Accuracy:  0.8629\n",
            "Alpha:  9.750000000000004   Accuracy:  0.8628\n",
            "Alpha:  9.800000000000004   Accuracy:  0.863\n",
            "Alpha:  9.850000000000005   Accuracy:  0.8631\n",
            "Alpha:  9.900000000000006   Accuracy:  0.8631\n",
            "Alpha:  9.950000000000006   Accuracy:  0.863\n"
          ]
        }
      ]
    },
    {
      "cell_type": "code",
      "source": [
        "i = 0.05\n",
        "alphaValues = []\n",
        "while i < 10:\n",
        "  alphaValues.append(i)\n",
        "  i += 0.05;\n",
        "  "
      ],
      "metadata": {
        "id": "XG9T6WMhNBYj"
      },
      "execution_count": null,
      "outputs": []
    },
    {
      "cell_type": "markdown",
      "source": [
        "Plot all 199 alpha values against their accuracies."
      ],
      "metadata": {
        "id": "0_ip2AucMeYw"
      }
    },
    {
      "cell_type": "code",
      "source": [
        "plt.plot(alphaValues, accuracyNB2)\n",
        "plt.title('Accuracy vs Alpha Value')\n",
        "plt.xlabel('Alpha Value')\n",
        "plt.ylabel('Accuracy')\n",
        "plt.show()"
      ],
      "metadata": {
        "colab": {
          "base_uri": "https://localhost:8080/",
          "height": 295
        },
        "id": "mPd2mjkfMuNS",
        "outputId": "81fb741e-5bed-42da-eab4-6d81e3367035"
      },
      "execution_count": null,
      "outputs": [
        {
          "output_type": "display_data",
          "data": {
            "text/plain": [
              "<Figure size 432x288 with 1 Axes>"
            ],
            "image/png": "[encoded data removed]"
          },
          "metadata": {
            "needs_background": "light"
          }
        }
      ]
    },
    {
      "cell_type": "markdown",
      "source": [
        "Create a Naive Bayes model with the best alpha value found = 2."
      ],
      "metadata": {
        "id": "v6rTcml1Mp8J"
      }
    },
    {
      "cell_type": "code",
      "source": [
        "trainingData, testingData = train_test_split(movieReviewsdf, test_size = 0.2, random_state = 42)\n",
        "\n",
        "xTraining, yTraining = trainingData['review'], trainingData['sentiment']\n",
        "xTest, yTest = testingData['review'], testingData['sentiment']\n",
        "\n",
        "tfidfVector = TfidfVectorizer()\n",
        "xTrainingVector = tfidfVector.fit_transform(xTraining)\n",
        "  \n",
        "xTestVector = tfidfVector.transform(xTest)\n",
        "\n",
        "multiNB = MultinomialNB(alpha = 2)\n",
        "multiNB.fit(xTrainingVector, yTraining.values)\n",
        "\n",
        "\n",
        "predictNB = multiNB.predict(xTestVector)\n",
        "accuracyScoreMNB1 = accuracy_score(yTest, predictNB)\n",
        "print(\"Classification Report: \\n\", classification_report(yTest, predictNB))\n",
        "print(\"Confusion Matrix: \\n\", confusion_matrix(yTest, predictNB))\n",
        "print(\"Accuracy: \\n\", accuracyScoreMNB1)"
      ],
      "metadata": {
        "colab": {
          "base_uri": "https://localhost:8080/"
        },
        "id": "wX16JxvsrMCm",
        "outputId": "060176f6-7332-4b53-b8eb-00074c666df3"
      },
      "execution_count": 144,
      "outputs": [
        {
          "output_type": "stream",
          "name": "stdout",
          "text": [
            "Classification Report: \n",
            "               precision    recall  f1-score   support\n",
            "\n",
            "           0       0.85      0.89      0.87      4961\n",
            "           1       0.88      0.85      0.86      5039\n",
            "\n",
            "    accuracy                           0.87     10000\n",
            "   macro avg       0.87      0.87      0.87     10000\n",
            "weighted avg       0.87      0.87      0.87     10000\n",
            "\n",
            "Confusion Matrix: \n",
            " [[4401  560]\n",
            " [ 772 4267]]\n",
            "Accuracy: \n",
            " 0.8668\n"
          ]
        }
      ]
    },
    {
      "cell_type": "markdown",
      "source": [
        "Create the linear Support Vector Machine model from the sklearn library."
      ],
      "metadata": {
        "id": "-SGf3rgPM0aR"
      }
    },
    {
      "cell_type": "code",
      "source": [
        "from sklearn.svm import LinearSVC\n",
        "trainingData, testingData = train_test_split(movieReviewsdf, test_size = 0.2, random_state = 42)\n",
        "\n",
        "xTraining, yTraining = trainingData['review'], trainingData['sentiment']\n",
        "xTest, yTest = testingData['review'], testingData['sentiment']\n",
        "\n",
        "tfidfVector = TfidfVectorizer()\n",
        "xTrainingVector = tfidfVector.fit_transform(xTraining)\n",
        "  \n",
        "xTestVector = tfidfVector.transform(xTest)\n",
        "\n",
        "linearSVC = LinearSVC()\n",
        "linearSVC.fit(xTrainingVector, yTraining.values)\n",
        "\n",
        "predictSVC = linearSVC.predict(xTestVector)\n"
      ],
      "metadata": {
        "id": "DYM2mMts1bkF"
      },
      "execution_count": null,
      "outputs": []
    },
    {
      "cell_type": "markdown",
      "source": [
        "Ouput the reports, confusion matrix and accuracy score for the Support Vector Machine model."
      ],
      "metadata": {
        "id": "o9CjZgY7NJt7"
      }
    },
    {
      "cell_type": "code",
      "source": [
        "print(\"Classification Report: \\n\", classification_report(yTest, predictSVC))\n",
        "print(\"Confusion Matrix: \\n\", confusion_matrix(yTest, predictSVC))\n",
        "print(\"Accuracy: \\n\", accuracy_score(yTest, predictSVC))"
      ],
      "metadata": {
        "id": "n5872YLrM_qw"
      },
      "execution_count": null,
      "outputs": []
    },
    {
      "cell_type": "markdown",
      "source": [
        "Find the best test train split between 0.2-0.3 for test data."
      ],
      "metadata": {
        "id": "gVWLT8MyNTeY"
      }
    },
    {
      "cell_type": "code",
      "source": [
        "myAccuracy = [[]]\n",
        "myMatrix = []\n",
        "myReport = []\n",
        "testSizes = []\n",
        "\n",
        "    \n",
        "for x in range (5, 95, 5):\n",
        "    testSizes.append(x/100)\n",
        "\n",
        "for i in range(len(testSizes)):\n",
        "    myAccuracy.append([])\n",
        "    for x in range(0, 10):\n",
        "        trainingData, testingData = train_test_split(movieReviewsdf, test_size = testSizes[i], random_state = 42)\n",
        "\n",
        "        xTraining, yTraining = trainingData['review'], trainingData['sentiment']\n",
        "        xTest, yTest = testingData['review'], testingData['sentiment']\n",
        "\n",
        "        tfidfVector = TfidfVectorizer()\n",
        "        xTrainingVector = tfidfVector.fit_transform(xTraining)\n",
        "  \n",
        "        xTestVector = tfidfVector.transform(xTest)\n",
        "\n",
        "        linearSVC = LinearSVC()\n",
        "        linearSVC.fit(xTrainingVector, yTraining.values)\n",
        "\n",
        "        predictSVC = linearSVC.predict(xTestVector)\n",
        "\n",
        "        myAccuracy[i].append(accuracy_score(yTest, predictSVC))\n",
        "    \n",
        "averageAccuracy = []\n",
        "for i in range(len(testSizes)):\n",
        "    averageAccuracy.append(sum(myAccuracy[i]) / len(myAccuracy[i]))\n",
        "        "
      ],
      "metadata": {
        "colab": {
          "base_uri": "https://localhost:8080/",
          "height": 315
        },
        "id": "3G24Cym_kUDw",
        "outputId": "c27f111b-9787-45c0-e609-ccfd9c3407a9"
      },
      "execution_count": null,
      "outputs": [
        {
          "output_type": "stream",
          "name": "stdout",
          "text": [
            "Stop\n"
          ]
        },
        {
          "output_type": "execute_result",
          "data": {
            "text/plain": [
              "Text(0.5, 0, 'Test Sizes')"
            ]
          },
          "metadata": {},
          "execution_count": 53
        },
        {
          "output_type": "display_data",
          "data": {
            "text/plain": [
              "<Figure size 432x288 with 1 Axes>"
            ],
            "image/png": "[encoded data removed]"
          },
          "metadata": {
            "needs_background": "light"
          }
        }
      ]
    },
    {
      "cell_type": "markdown",
      "source": [
        "Plot the graph showing the test sizes vs the accuracy of the model."
      ],
      "metadata": {
        "id": "IzCl7ZzINa_5"
      }
    },
    {
      "cell_type": "code",
      "source": [
        "plt.plot(testSizes, averageAccuracy)\n",
        "plt.xlabel(\"Test Sizes\")\n",
        "plt.ylabel(\"Accuracy\")"
      ],
      "metadata": {
        "id": "ZjijHnxsZiWU"
      },
      "execution_count": null,
      "outputs": []
    },
    {
      "cell_type": "markdown",
      "source": [
        "Tune the model, to find the best C value. Utilsing the 0.3 split as that showed the best accuracy. Increment the C value from 0.05 to 0.95, increment by 0.05. Each accuracy of each model produced to be stored within an array."
      ],
      "metadata": {
        "id": "XRsUW9VsNrLp"
      }
    },
    {
      "cell_type": "code",
      "source": [
        "    linearSVC2 = LinearSVC()\n",
        "    SVCAccuracy = []\n",
        "    CValues =[]\n",
        "    i = 0.05;\n",
        "    trainingData, testingData = train_test_split(movieReviewsdf, test_size = 0.3, random_state = 42)\n",
        "\n",
        "    xTraining, yTraining = trainingData['review'], trainingData['sentiment']\n",
        "    xTest, yTest = testingData['review'], testingData['sentiment']\n",
        "\n",
        "    tfidfVector = TfidfVectorizer()\n",
        "    xTrainingVector = tfidfVector.fit_transform(xTraining)\n",
        "  \n",
        "    xTestVector = tfidfVector.transform(xTest)\n",
        "\n",
        "    while i <= 1:\n",
        "       \n",
        "      linearSVC2 = LinearSVC(C=i)\n",
        "      linearSVC2.fit(xTrainingVector, yTraining.values)\n",
        "\n",
        "      predictSVC2 = linearSVC2.predict(xTestVector)\n",
        "      \n",
        "      SVCAccuracy.append(accuracy_score(yTest, predictSVC2))\n",
        "      CValues.append(i)\n",
        "      i+=0.05\n"
      ],
      "metadata": {
        "id": "FIb6v7IM3iJ0"
      },
      "execution_count": null,
      "outputs": []
    },
    {
      "cell_type": "markdown",
      "source": [
        "Plot a graph which shows the C value against the accuracy of the model."
      ],
      "metadata": {
        "id": "7pESB8qTNvtT"
      }
    },
    {
      "cell_type": "code",
      "source": [
        "\n",
        "plt.plot(CValues, SVCAccuracy)\n",
        "plt.title('Accuracy vs C-value')\n",
        "plt.xlabel('C-value')\n",
        "plt.ylabel('Accuracy')\n",
        "plt.show()"
      ],
      "metadata": {
        "colab": {
          "base_uri": "https://localhost:8080/",
          "height": 295
        },
        "id": "Kxl0vm5L9KcR",
        "outputId": "51b27ede-1596-4c4f-8de0-3a752c45b31d"
      },
      "execution_count": null,
      "outputs": [
        {
          "output_type": "display_data",
          "data": {
            "text/plain": [
              "<Figure size 432x288 with 1 Axes>"
            ],
            "image/png": "[encoded data removed]"
          },
          "metadata": {
            "needs_background": "light"
          }
        }
      ]
    },
    {
      "cell_type": "markdown",
      "source": [
        "Find the C-value with the best accuracy. Output it to screen."
      ],
      "metadata": {
        "id": "4-sqHYRWOPFR"
      }
    },
    {
      "cell_type": "code",
      "source": [
        "print(max(SVCAccuracy))\n",
        "indexMax = np.argmax(SVCAccuracy)\n",
        "print(indexMax)\n",
        "\n",
        "print(\"Best C-value = \", float(CValues[indexMax]))\n",
        "\n",
        "bestCValue = float(CValues[indexMax])"
      ],
      "metadata": {
        "id": "8Zy1Cc-kRB2L",
        "colab": {
          "base_uri": "https://localhost:8080/"
        },
        "outputId": "7ac34226-fddf-45ec-cd21-162f08122290"
      },
      "execution_count": null,
      "outputs": [
        {
          "output_type": "stream",
          "name": "stdout",
          "text": [
            "0.9008666666666667\n",
            "3\n",
            "Best C-value =  0.2\n"
          ]
        }
      ]
    },
    {
      "cell_type": "markdown",
      "source": [
        "More in-depth investigation into the C-value. Starting at 0.1 increase until 0.4 by 0.01. This will allow us to find the best possible C-value for the model. For each C-value construct 3 models and store the average."
      ],
      "metadata": {
        "id": "EUqszXgROVc5"
      }
    },
    {
      "cell_type": "code",
      "source": [
        "    linearSVC2 = LinearSVC()\n",
        "    averageSVCAccuracy = []\n",
        "    CValues =[]\n",
        "    i = 0.10;\n",
        "    while i <= 0.4:  \n",
        "      SVCAccuracy = []    \n",
        "      for j in range(0, 3, 1):\n",
        "        trainingData, testingData = train_test_split(movieReviewsdf, test_size = 0.3, random_state = 42)\n",
        "\n",
        "        xTraining, yTraining = trainingData['review'], trainingData['sentiment']\n",
        "        xTest, yTest = testingData['review'], testingData['sentiment']\n",
        "\n",
        "        tfidfVector = TfidfVectorizer()\n",
        "        xTrainingVector = tfidfVector.fit_transform(xTraining)\n",
        "  \n",
        "        xTestVector = tfidfVector.transform(xTest)\n",
        "        linearSVC2 = LinearSVC(C=i)\n",
        "        linearSVC2.fit(xTrainingVector, yTraining.values)\n",
        "\n",
        "        predictSVC2 = linearSVC2.predict(xTestVector)\n",
        "      \n",
        "        SVCAccuracy.append(accuracy_score(yTest, predictSVC2))\n",
        "      \n",
        "      averageSVCAccuracy.append(sum(SVCAccuracy)/len(SVCAccuracy))\n",
        "      CValues.append(i)\n",
        "      i+=0.01"
      ],
      "metadata": {
        "id": "hwkpoc2VsNtY"
      },
      "execution_count": null,
      "outputs": []
    },
    {
      "cell_type": "markdown",
      "source": [
        "Plot the average accuracy against its CValue."
      ],
      "metadata": {
        "id": "5DQniANwOpQQ"
      }
    },
    {
      "cell_type": "code",
      "source": [
        "plt.plot(CValues, SVCAccuracy)\n",
        "plt.title('Accuracy vs C-value')\n",
        "plt.xlabel('C-value')\n",
        "plt.ylabel('Accuracy')\n",
        "plt.show()"
      ],
      "metadata": {
        "colab": {
          "base_uri": "https://localhost:8080/",
          "height": 295
        },
        "id": "WnrUL9w0sgko",
        "outputId": "4653aebc-bdc5-48b5-91a1-aa4c3cb77c19"
      },
      "execution_count": null,
      "outputs": [
        {
          "output_type": "display_data",
          "data": {
            "text/plain": [
              "<Figure size 432x288 with 1 Axes>"
            ],
            "image/png": "[encoded data removed]"
          },
          "metadata": {
            "needs_background": "light"
          }
        }
      ]
    },
    {
      "cell_type": "markdown",
      "source": [
        "Find the best C-Value by looking for the max accuracy."
      ],
      "metadata": {
        "id": "f2DUKBGWOvZp"
      }
    },
    {
      "cell_type": "code",
      "source": [
        "print(max(SVCAccuracy))\n",
        "indexMax = np.argmax(SVCAccuracy)\n",
        "print(indexMax)\n",
        "\n",
        "print(\"Best C-value = \", float(CValues[indexMax]))\n",
        "\n",
        "bestCValue = float(CValues[indexMax])"
      ],
      "metadata": {
        "colab": {
          "base_uri": "https://localhost:8080/"
        },
        "id": "0gJWd3QvtNL5",
        "outputId": "480df45b-1a35-46b7-b9bc-fc01c1c03555"
      },
      "execution_count": null,
      "outputs": [
        {
          "output_type": "stream",
          "name": "stdout",
          "text": [
            "0.901\n",
            "8\n",
            "Best C-value =  0.18000000000000005\n"
          ]
        }
      ]
    },
    {
      "cell_type": "markdown",
      "source": [
        "Best C-value is 0.18. Create model with this C-value and output all of its Stats. This includes accuracy, classification report and confustion matrix."
      ],
      "metadata": {
        "id": "sO8ArXyNO2ow"
      }
    },
    {
      "cell_type": "code",
      "source": [
        "\n",
        "trainingData, testingData = train_test_split(movieReviewsdf, test_size = 0.3, random_state = 42)\n",
        "\n",
        "xTraining, yTraining = trainingData['review'], trainingData['sentiment']\n",
        "xTest, yTest = testingData['review'], testingData['sentiment']\n",
        "\n",
        "tfidfVector = TfidfVectorizer()\n",
        "xTrainingVector = tfidfVector.fit_transform(xTraining)\n",
        "\n",
        "xTestVector = tfidfVector.transform(xTest)\n",
        "\n",
        "linearSVC = LinearSVC(C=bestCValue)\n",
        "linearSVC.fit(xTrainingVector, yTraining.values)\n",
        "\n",
        "predictSVC = linearSVC.predict(xTestVector)\n",
        "\n",
        "accuracyScoreSVC = accuracy_score(yTest, predictSVC)\n",
        "\n",
        "print(\"Classification Report: \\n\", classification_report(yTest, predictSVC))\n",
        "print(\"Confusion Matrix: \\n\", confusion_matrix(yTest, predictSVC))\n",
        "print(\"Accuracy: \\n\", accuracyScoreSVC)"
      ],
      "metadata": {
        "colab": {
          "base_uri": "https://localhost:8080/"
        },
        "id": "HJYPhUpH151D",
        "outputId": "6feefed9-3bfd-4741-f8e0-16cad0cfd81a"
      },
      "execution_count": null,
      "outputs": [
        {
          "output_type": "stream",
          "name": "stdout",
          "text": [
            "Classification Report: \n",
            "               precision    recall  f1-score   support\n",
            "\n",
            "           0       0.91      0.89      0.90      7411\n",
            "           1       0.89      0.91      0.90      7589\n",
            "\n",
            "    accuracy                           0.90     15000\n",
            "   macro avg       0.90      0.90      0.90     15000\n",
            "weighted avg       0.90      0.90      0.90     15000\n",
            "\n",
            "Confusion Matrix: \n",
            " [[6586  825]\n",
            " [ 660 6929]]\n",
            "Accuracy: \n",
            " 0.901\n"
          ]
        }
      ]
    },
    {
      "cell_type": "markdown",
      "source": [
        "Create the ablation dataframe. Each new columns has a new pre-processing technique added to the last.\n"
      ],
      "metadata": {
        "id": "fqIdE2PsPfHo"
      }
    },
    {
      "cell_type": "code",
      "source": [
        "abolitionStudydf = pd.read_csv('/content/IMDB Dataset.csv')  \n",
        "    \n",
        "abolitionStudydf['sentiment'] = abolitionStudydf['sentiment'].apply(relabelSentiment)\n",
        "\n",
        "abolitionStudydf['noHTML'] = abolitionStudydf['review'].apply(removeHTML)\n",
        "\n",
        "abolitionStudydf['noLinks'] = abolitionStudydf['noHTML'].apply(removeLinks)\n",
        "\n",
        "abolitionStudydf['lowerCase'] = abolitionStudydf['noLinks'].apply(toLowerCase)\n",
        "\n",
        "abolitionStudydf['noPunctuation'] = abolitionStudydf['lowerCase'].apply(removePunctuation)\n",
        "\n",
        "abolitionStudydf['noDoubleSpaces'] = abolitionStudydf['noPunctuation'].apply(removeDoubleSpace)\n",
        "\n",
        "abolitionStudydf['lemmatizeReviewWordNet'] = abolitionStudydf['noDoubleSpaces'].apply(lemmatizeReviewWordNet)\n",
        "\n",
        "abolitionStudydf['removeStopWords'] = abolitionStudydf['lemmatizeReviewWordNet'].apply(removeStopWords)\n",
        " "
      ],
      "metadata": {
        "id": "ykgLgYpuqmTF"
      },
      "execution_count": 51,
      "outputs": []
    },
    {
      "cell_type": "markdown",
      "source": [
        "Output all the columns in the dataFrame."
      ],
      "metadata": {
        "id": "i2itrnIiQNgQ"
      }
    },
    {
      "cell_type": "code",
      "source": [
        "for i in range(0, len(abolitionStudydf.columns)):\n",
        "  print(abolitionStudydf.columns[i])\n"
      ],
      "metadata": {
        "colab": {
          "base_uri": "https://localhost:8080/"
        },
        "id": "Vn_etpCG8C1-",
        "outputId": "29a0c2f2-46e4-4132-ec72-add12cdc49c8"
      },
      "execution_count": 54,
      "outputs": [
        {
          "output_type": "stream",
          "name": "stdout",
          "text": [
            "review\n",
            "sentiment\n",
            "noHTML\n",
            "noLinks\n",
            "lowerCase\n",
            "noPunctuation\n",
            "noDoubleSpaces\n",
            "lemmatizeReviewWordNet\n",
            "removeStopWords\n"
          ]
        }
      ]
    },
    {
      "cell_type": "markdown",
      "source": [
        "Go through each column in the ablation database, create a model from that data, data the model and store it. This will show the pre-processing effects on the accuracy of the Naive Bayes model. Utilsing the count vectorizer."
      ],
      "metadata": {
        "id": "NtAh93BTQR-S"
      }
    },
    {
      "cell_type": "code",
      "source": [
        "abolitionStudyMNBAccuracy = []\n",
        "\n",
        "Columns = [\"review\", \"noHTML\", \"noLinks\", \"lowerCase\", \"noPunctuation\", \"noDoubleSpaces\", \"lemmatizeReviewWordNet\",]\n",
        "\n",
        "for i in range(0, len(Columns), 1):\n",
        "  trainingData, testingData = train_test_split(abolitionStudydf, test_size = 0.3, random_state = 42)\n",
        "\n",
        "  columnName = Columns[i]\n",
        "\n",
        "  xTraining, yTraining = trainingData[columnName], trainingData['sentiment']\n",
        "  xTest, yTest = testingData[columnName], testingData['sentiment']\n",
        "\n",
        "  tfidfVector = CountVectorizer()\n",
        "  xTrainingVector = tfidfVector.fit_transform(xTraining)\n",
        "  xTestVector = tfidfVector.transform(xTest)\n",
        "  multiNB = MultinomialNB()\n",
        "  multiNB.fit(xTrainingVector, yTraining.values)\n",
        "  predictNB = multiNB.predict(xTestVector)\n",
        "  accuracyScoreMNB = accuracy_score(yTest, predictNB)\n",
        "\n",
        "  abolitionStudyMNBAccuracy.append(accuracyScoreMNB)\n"
      ],
      "metadata": {
        "id": "AsgD07f-wsgF"
      },
      "execution_count": 133,
      "outputs": []
    },
    {
      "cell_type": "markdown",
      "source": [
        "Go through each column in the ablation database, create a model from that data, data the model and store it. This will show the pre-processing effects on the accuracy of the SVM model. Utilsing the count vectorizer.\n"
      ],
      "metadata": {
        "id": "h-XyhQj8RDlJ"
      }
    },
    {
      "cell_type": "code",
      "source": [
        "abolitionStudySVCAccuracy = []\n",
        "\n",
        "Columns = [\"review\", \"noHTML\", \"noLinks\", \"lowerCase\", \"noPunctuation\", \"noDoubleSpaces\", \"lemmatizeReviewWordNet\",]\n",
        "for i in range(0, len(Columns), 1):\n",
        "  trainingData, testingData = train_test_split(abolitionStudydf, test_size = 0.3, random_state = 42)\n",
        "\n",
        "  columnName = Columns[i]\n",
        "\n",
        "  xTraining, yTraining = trainingData[columnName], trainingData['sentiment']\n",
        "  xTest, yTest = testingData[columnName], testingData['sentiment']\n",
        "\n",
        "  tfidfVector = CountVectorizer()\n",
        "  xTrainingVector = tfidfVector.fit_transform(xTraining)\n",
        "  xTestVector = tfidfVector.transform(xTest)\n",
        "    \n",
        "  linearSVC = LinearSVC(C=0.18)\n",
        "  linearSVC.fit(xTrainingVector, yTraining.values)\n",
        "\n",
        "  predictSVC = linearSVC.predict(xTestVector)\n",
        "\n",
        "  abolitionStudySVCAccuracy.append(accuracy_score(yTest, predictSVC))\n"
      ],
      "metadata": {
        "colab": {
          "base_uri": "https://localhost:8080/"
        },
        "id": "w7gdXQ40uCLh",
        "outputId": "32d292a0-2a32-4763-c061-744a0a61d966"
      },
      "execution_count": 134,
      "outputs": [
        {
          "output_type": "stream",
          "name": "stderr",
          "text": [
            "/usr/local/lib/python3.8/dist-packages/sklearn/svm/_base.py:1206: ConvergenceWarning: Liblinear failed to converge, increase the number of iterations.\n",
            "  warnings.warn(\n",
            "/usr/local/lib/python3.8/dist-packages/sklearn/svm/_base.py:1206: ConvergenceWarning: Liblinear failed to converge, increase the number of iterations.\n",
            "  warnings.warn(\n",
            "/usr/local/lib/python3.8/dist-packages/sklearn/svm/_base.py:1206: ConvergenceWarning: Liblinear failed to converge, increase the number of iterations.\n",
            "  warnings.warn(\n",
            "/usr/local/lib/python3.8/dist-packages/sklearn/svm/_base.py:1206: ConvergenceWarning: Liblinear failed to converge, increase the number of iterations.\n",
            "  warnings.warn(\n",
            "/usr/local/lib/python3.8/dist-packages/sklearn/svm/_base.py:1206: ConvergenceWarning: Liblinear failed to converge, increase the number of iterations.\n",
            "  warnings.warn(\n",
            "/usr/local/lib/python3.8/dist-packages/sklearn/svm/_base.py:1206: ConvergenceWarning: Liblinear failed to converge, increase the number of iterations.\n",
            "  warnings.warn(\n",
            "/usr/local/lib/python3.8/dist-packages/sklearn/svm/_base.py:1206: ConvergenceWarning: Liblinear failed to converge, increase the number of iterations.\n",
            "  warnings.warn(\n"
          ]
        }
      ]
    },
    {
      "cell_type": "markdown",
      "source": [
        "Output the Naive Bayes accuracies in regards to each pre-processing technique."
      ],
      "metadata": {
        "id": "YSiKJoRFRHOM"
      }
    },
    {
      "cell_type": "code",
      "source": [
        "Columns = [\"review\", \"noHTML\", \"noLink\", \"lowerCase\", \"noPunc\", \"noSpace\", \"lemmatize\"]\n",
        "plt.plot(Columns, abolitionStudyMNBAccuracy, color=\"blue\")\n",
        "\n",
        "plt.xlabel(\"Processing Technique\")\n",
        "plt.ylabel(\"Accuracy\")"
      ],
      "metadata": {
        "colab": {
          "base_uri": "https://localhost:8080/",
          "height": 474
        },
        "id": "gtsyEhUVoA4X",
        "outputId": "092cf42b-5bcb-48c2-db2e-fdc35e25c023"
      },
      "execution_count": 123,
      "outputs": [
        {
          "output_type": "error",
          "ename": "TypeError",
          "evalue": "ignored",
          "traceback": [
            "\u001b[0;31m---------------------------------------------------------------------------\u001b[0m",
            "\u001b[0;31mTypeError\u001b[0m                                 Traceback (most recent call last)",
            "\u001b[0;32m<ipython-input-123-73463f0da04d>\u001b[0m in \u001b[0;36m<module>\u001b[0;34m\u001b[0m\n\u001b[1;32m      2\u001b[0m \u001b[0mplt\u001b[0m\u001b[0;34m.\u001b[0m\u001b[0mplot\u001b[0m\u001b[0;34m(\u001b[0m\u001b[0mColumns\u001b[0m\u001b[0;34m,\u001b[0m \u001b[0mabolitionStudyMNBAccuracy\u001b[0m\u001b[0;34m,\u001b[0m \u001b[0mcolor\u001b[0m\u001b[0;34m=\u001b[0m\u001b[0;34m\"blue\"\u001b[0m\u001b[0;34m)\u001b[0m\u001b[0;34m\u001b[0m\u001b[0;34m\u001b[0m\u001b[0m\n\u001b[1;32m      3\u001b[0m \u001b[0;34m\u001b[0m\u001b[0m\n\u001b[0;32m----> 4\u001b[0;31m \u001b[0mplt\u001b[0m\u001b[0;34m.\u001b[0m\u001b[0mxlabel\u001b[0m\u001b[0;34m(\u001b[0m\u001b[0;34m\"Processing Technique\"\u001b[0m\u001b[0;34m)\u001b[0m\u001b[0;34m\u001b[0m\u001b[0;34m\u001b[0m\u001b[0m\n\u001b[0m\u001b[1;32m      5\u001b[0m \u001b[0mplt\u001b[0m\u001b[0;34m.\u001b[0m\u001b[0mylabel\u001b[0m\u001b[0;34m(\u001b[0m\u001b[0;34m\"Accuracy\"\u001b[0m\u001b[0;34m)\u001b[0m\u001b[0;34m\u001b[0m\u001b[0;34m\u001b[0m\u001b[0m\n",
            "\u001b[0;31mTypeError\u001b[0m: 'str' object is not callable"
          ]
        },
        {
          "output_type": "display_data",
          "data": {
            "text/plain": [
              "<Figure size 432x288 with 1 Axes>"
            ],
            "image/png": "[encoded data removed]"
          },
          "metadata": {
            "needs_background": "light"
          }
        }
      ]
    },
    {
      "cell_type": "markdown",
      "source": [
        "Output the SVM accuracies in regards to the pre-processing techniques."
      ],
      "metadata": {
        "id": "Qd2utDNbRWxa"
      }
    },
    {
      "cell_type": "code",
      "source": [
        "Columns = [\"review\", \"noHTML\", \"noLink\", \"lowerCase\", \"noPunc\", \"noSpace\", \"lemmatize\",]\n",
        "\n",
        "plt.plot(Columns, abolitionStudySVCAccuracy, color=\"red\")\n",
        "plt.xlabel(\"Processing Technique\")\n",
        "plt.ylabel(\"Accuracy\")\n"
      ],
      "metadata": {
        "colab": {
          "base_uri": "https://localhost:8080/",
          "height": 471
        },
        "id": "R142if3SvEVx",
        "outputId": "0a7f989f-9f8f-41e9-ef3a-9e65a32ef75c"
      },
      "execution_count": 124,
      "outputs": [
        {
          "output_type": "error",
          "ename": "TypeError",
          "evalue": "ignored",
          "traceback": [
            "\u001b[0;31m---------------------------------------------------------------------------\u001b[0m",
            "\u001b[0;31mTypeError\u001b[0m                                 Traceback (most recent call last)",
            "\u001b[0;32m<ipython-input-124-81ea890d2303>\u001b[0m in \u001b[0;36m<module>\u001b[0;34m\u001b[0m\n\u001b[1;32m      2\u001b[0m \u001b[0;34m\u001b[0m\u001b[0m\n\u001b[1;32m      3\u001b[0m \u001b[0mplt\u001b[0m\u001b[0;34m.\u001b[0m\u001b[0mplot\u001b[0m\u001b[0;34m(\u001b[0m\u001b[0mColumns\u001b[0m\u001b[0;34m,\u001b[0m \u001b[0mabolitionStudySVCAccuracy\u001b[0m\u001b[0;34m,\u001b[0m \u001b[0mcolor\u001b[0m\u001b[0;34m=\u001b[0m\u001b[0;34m\"red\"\u001b[0m\u001b[0;34m)\u001b[0m\u001b[0;34m\u001b[0m\u001b[0;34m\u001b[0m\u001b[0m\n\u001b[0;32m----> 4\u001b[0;31m \u001b[0mplt\u001b[0m\u001b[0;34m.\u001b[0m\u001b[0mxlabel\u001b[0m\u001b[0;34m(\u001b[0m\u001b[0;34m\"Processing Technique\"\u001b[0m\u001b[0;34m)\u001b[0m\u001b[0;34m\u001b[0m\u001b[0;34m\u001b[0m\u001b[0m\n\u001b[0m\u001b[1;32m      5\u001b[0m \u001b[0mplt\u001b[0m\u001b[0;34m.\u001b[0m\u001b[0mylabel\u001b[0m\u001b[0;34m(\u001b[0m\u001b[0;34m\"Accuracy\"\u001b[0m\u001b[0;34m)\u001b[0m\u001b[0;34m\u001b[0m\u001b[0;34m\u001b[0m\u001b[0m\n",
            "\u001b[0;31mTypeError\u001b[0m: 'str' object is not callable"
          ]
        },
        {
          "output_type": "display_data",
          "data": {
            "text/plain": [
              "<Figure size 432x288 with 1 Axes>"
            ],
            "image/png": "[encoded data removed]"
          },
          "metadata": {
            "needs_background": "light"
          }
        }
      ]
    },
    {
      "cell_type": "markdown",
      "source": [
        "Add the accuracy when a TfidfVectorizer is used instead of a Count Vectorizer for a Naive Bayes model."
      ],
      "metadata": {
        "id": "lSQngyuLRgPK"
      }
    },
    {
      "cell_type": "code",
      "source": [
        "Columns = [\"review\", \"noHTML\", \"noLinks\", \"lowerCase\", \"noPunctuation\", \"noDoubleSpaces\", \"lemmatizeReviewWordNet\",]\n",
        "trainingData, testingData = train_test_split(abolitionStudydf, test_size = 0.3, random_state = 42)\n",
        "\n",
        "columnName = Columns[i]\n",
        "\n",
        "xTraining, yTraining = trainingData[columnName], trainingData['sentiment']\n",
        "xTest, yTest = testingData[columnName], testingData['sentiment']\n",
        "\n",
        "tfidfVector = TfidfVectorizer()\n",
        "xTrainingVector = tfidfVector.fit_transform(xTraining)\n",
        "xTestVector = tfidfVector.transform(xTest)\n",
        "    \n",
        "linearSVC = LinearSVC(C=0.18)\n",
        "linearSVC.fit(xTrainingVector, yTraining.values)\n",
        "\n",
        "predictSVC = linearSVC.predict(xTestVector)\n",
        "\n",
        "abolitionStudySVCAccuracy.append(accuracy_score(yTest, predictSVC))\n"
      ],
      "metadata": {
        "id": "VAXZA5ZSvoPz"
      },
      "execution_count": 135,
      "outputs": []
    },
    {
      "cell_type": "markdown",
      "source": [
        "Add the accuracy when a TfidfVectorizer is used instead of a Count Vectorizer for a SVM model."
      ],
      "metadata": {
        "id": "CrJiIq_ZRu8I"
      }
    },
    {
      "cell_type": "code",
      "source": [
        "rainingData, testingData = train_test_split(abolitionStudydf, test_size = 0.3, random_state = 42)\n",
        "\n",
        "xTraining, yTraining = trainingData[columnName], trainingData['sentiment']\n",
        "xTest, yTest = testingData[columnName], testingData['sentiment']\n",
        "\n",
        "tfidfVector = TfidfVectorizer()\n",
        "xTrainingVector = tfidfVector.fit_transform(xTraining)\n",
        "xTestVector = tfidfVector.transform(xTest)\n",
        "multiNB = MultinomialNB()\n",
        "multiNB.fit(xTrainingVector, yTraining.values)\n",
        "predictNB = multiNB.predict(xTestVector)\n",
        "accuracyScoreMNB = accuracy_score(yTest, predictNB)\n",
        "\n",
        "abolitionStudyMNBAccuracy.append(accuracyScoreMNB)\n"
      ],
      "metadata": {
        "id": "VtZ_QuJ7v2eD"
      },
      "execution_count": 136,
      "outputs": []
    },
    {
      "cell_type": "markdown",
      "source": [
        "Construct a graph showing the effect utilsing a TfidfVectorizer has in regards to the accuracy of a SVM algorithm."
      ],
      "metadata": {
        "id": "qh9cxPKlRx1a"
      }
    },
    {
      "cell_type": "code",
      "source": [
        "\n",
        "Columns = [\"review\", \"noHTML\", \"noLink\", \"lower\", \"noPunc\", \"noSpace\", \"lemma\", \"TFID\"]\n",
        "\n",
        "plt.plot(Columns, abolitionStudySVCAccuracy, color=\"red\")\n",
        "plt.xlabel(\"Processing Technique\")\n",
        "plt.ylabel(\"Accuracy\")"
      ],
      "metadata": {
        "colab": {
          "base_uri": "https://localhost:8080/",
          "height": 472
        },
        "id": "Kb7eFamwwaRx",
        "outputId": "c6c53266-6ce1-4190-86f2-3febbaec92db"
      },
      "execution_count": 129,
      "outputs": [
        {
          "output_type": "error",
          "ename": "TypeError",
          "evalue": "ignored",
          "traceback": [
            "\u001b[0;31m---------------------------------------------------------------------------\u001b[0m",
            "\u001b[0;31mTypeError\u001b[0m                                 Traceback (most recent call last)",
            "\u001b[0;32m<ipython-input-129-db09e09bac6e>\u001b[0m in \u001b[0;36m<module>\u001b[0;34m\u001b[0m\n\u001b[1;32m      2\u001b[0m \u001b[0;34m\u001b[0m\u001b[0m\n\u001b[1;32m      3\u001b[0m \u001b[0mplt\u001b[0m\u001b[0;34m.\u001b[0m\u001b[0mplot\u001b[0m\u001b[0;34m(\u001b[0m\u001b[0mColumns\u001b[0m\u001b[0;34m,\u001b[0m \u001b[0mabolitionStudySVCAccuracy\u001b[0m\u001b[0;34m,\u001b[0m \u001b[0mcolor\u001b[0m\u001b[0;34m=\u001b[0m\u001b[0;34m\"red\"\u001b[0m\u001b[0;34m)\u001b[0m\u001b[0;34m\u001b[0m\u001b[0;34m\u001b[0m\u001b[0m\n\u001b[0;32m----> 4\u001b[0;31m \u001b[0mplt\u001b[0m\u001b[0;34m.\u001b[0m\u001b[0mxlabel\u001b[0m\u001b[0;34m(\u001b[0m\u001b[0;34m\"Processing Technique\"\u001b[0m\u001b[0;34m)\u001b[0m\u001b[0;34m\u001b[0m\u001b[0;34m\u001b[0m\u001b[0m\n\u001b[0m\u001b[1;32m      5\u001b[0m \u001b[0mplt\u001b[0m\u001b[0;34m.\u001b[0m\u001b[0mylabel\u001b[0m\u001b[0;34m(\u001b[0m\u001b[0;34m\"Accuracy\"\u001b[0m\u001b[0;34m)\u001b[0m\u001b[0;34m\u001b[0m\u001b[0;34m\u001b[0m\u001b[0m\n",
            "\u001b[0;31mTypeError\u001b[0m: 'str' object is not callable"
          ]
        },
        {
          "output_type": "display_data",
          "data": {
            "text/plain": [
              "<Figure size 432x288 with 1 Axes>"
            ],
            "image/png": "[encoded data removed]"
          },
          "metadata": {
            "needs_background": "light"
          }
        }
      ]
    },
    {
      "cell_type": "markdown",
      "source": [
        "Construct a graph showing the effect utilsing a TfidfVectorizer has in regards to the accuracy of a Naive Bayes algorithm."
      ],
      "metadata": {
        "id": "1vWBrG0-R_Da"
      }
    },
    {
      "cell_type": "code",
      "source": [
        "plt.plot(Columns, abolitionStudyMNBAccuracy, color=\"blue\")\n",
        "\n",
        "plt.xlabel(\"Processing Technique\")\n",
        "plt.ylabel('Accuracy')"
      ],
      "metadata": {
        "colab": {
          "base_uri": "https://localhost:8080/",
          "height": 471
        },
        "id": "sqVyhrizwdrZ",
        "outputId": "a02200cc-4715-4592-ff2e-1175d44ff9e1"
      },
      "execution_count": 109,
      "outputs": [
        {
          "output_type": "error",
          "ename": "TypeError",
          "evalue": "ignored",
          "traceback": [
            "\u001b[0;31m---------------------------------------------------------------------------\u001b[0m",
            "\u001b[0;31mTypeError\u001b[0m                                 Traceback (most recent call last)",
            "\u001b[0;32m<ipython-input-109-79f2490ae3fa>\u001b[0m in \u001b[0;36m<module>\u001b[0;34m\u001b[0m\n\u001b[1;32m      1\u001b[0m \u001b[0mplt\u001b[0m\u001b[0;34m.\u001b[0m\u001b[0mplot\u001b[0m\u001b[0;34m(\u001b[0m\u001b[0mColumns\u001b[0m\u001b[0;34m,\u001b[0m \u001b[0mabolitionStudyMNBAccuracy\u001b[0m\u001b[0;34m,\u001b[0m \u001b[0mcolor\u001b[0m\u001b[0;34m=\u001b[0m\u001b[0;34m\"blue\"\u001b[0m\u001b[0;34m)\u001b[0m\u001b[0;34m\u001b[0m\u001b[0;34m\u001b[0m\u001b[0m\n\u001b[1;32m      2\u001b[0m \u001b[0;34m\u001b[0m\u001b[0m\n\u001b[0;32m----> 3\u001b[0;31m \u001b[0mplt\u001b[0m\u001b[0;34m.\u001b[0m\u001b[0mxlabel\u001b[0m\u001b[0;34m(\u001b[0m\u001b[0;34m\"Processing Technique\"\u001b[0m\u001b[0;34m)\u001b[0m\u001b[0;34m\u001b[0m\u001b[0;34m\u001b[0m\u001b[0m\n\u001b[0m\u001b[1;32m      4\u001b[0m \u001b[0mplt\u001b[0m\u001b[0;34m.\u001b[0m\u001b[0mylabel\u001b[0m\u001b[0;34m(\u001b[0m\u001b[0;34m'Accuracy'\u001b[0m\u001b[0;34m)\u001b[0m\u001b[0;34m\u001b[0m\u001b[0;34m\u001b[0m\u001b[0m\n",
            "\u001b[0;31mTypeError\u001b[0m: 'str' object is not callable"
          ]
        },
        {
          "output_type": "display_data",
          "data": {
            "text/plain": [
              "<Figure size 432x288 with 1 Axes>"
            ],
            "image/png": "[encoded data removed]"
          },
          "metadata": {
            "needs_background": "light"
          }
        }
      ]
    },
    {
      "cell_type": "markdown",
      "source": [
        "Print all of the accuracies of both models."
      ],
      "metadata": {
        "id": "LY3KlnyXSCa6"
      }
    },
    {
      "cell_type": "code",
      "source": [
        "print(abolitionStudyMNBAccuracy)\n",
        "print(abolitionStudySVCAccuracy)"
      ],
      "metadata": {
        "colab": {
          "base_uri": "https://localhost:8080/"
        },
        "id": "_9KuheE1J2tM",
        "outputId": "57d65d23-5574-4753-80b7-253cec610e7f"
      },
      "execution_count": 132,
      "outputs": [
        {
          "output_type": "stream",
          "name": "stdout",
          "text": [
            "[0.8485333333333334, 0.8489333333333333, 0.8488666666666667, 0.8488666666666667, 0.8488, 0.8488, 0.8488, 0.8616666666666667]\n",
            "[0.8778, 0.8776, 0.8769333333333333, 0.8772, 0.8764666666666666, 0.8764, 0.8764666666666666, 0.9041333333333333]\n"
          ]
        }
      ]
    },
    {
      "cell_type": "markdown",
      "source": [
        "Create the best SVM model, this will be used to predict my self-made reviews."
      ],
      "metadata": {
        "id": "LGPjy-gRSGKR"
      }
    },
    {
      "cell_type": "code",
      "source": [
        "trainingData, testingData = train_test_split(movieReviewsdf, test_size = 0.3, random_state = 42)\n",
        "\n",
        "xTraining, yTraining = trainingData['review'], trainingData['sentiment']\n",
        "xTest, yTest = testingData['review'], testingData['sentiment']\n",
        "\n",
        "tfidfVector = TfidfVectorizer()\n",
        "xTrainingVector = tfidfVector.fit_transform(xTraining)\n",
        "\n",
        "xTestVector = tfidfVector.transform(xTest)\n",
        "\n",
        "linearSVC = LinearSVC(C=0.18)\n",
        "linearSVC.fit(xTrainingVector, yTraining.values)\n",
        "\n",
        "predictSVC = linearSVC.predict(xTestVector)\n",
        "\n",
        "accuracyScoreSVC = accuracy_score(yTest, predictSVC)\n",
        "\n",
        "print(\"Classification Report: \\n\", classification_report(yTest, predictSVC))\n",
        "print(\"Confusion Matrix: \\n\", confusion_matrix(yTest, predictSVC))\n",
        "print(\"Accuracy: \\n\", accuracyScoreSVC)"
      ],
      "metadata": {
        "colab": {
          "base_uri": "https://localhost:8080/"
        },
        "id": "RJpylRRTXZoM",
        "outputId": "f8e0760b-a24a-43bd-984f-1b9cb040dcea"
      },
      "execution_count": 21,
      "outputs": [
        {
          "output_type": "stream",
          "name": "stdout",
          "text": [
            "Classification Report: \n",
            "               precision    recall  f1-score   support\n",
            "\n",
            "           0       0.91      0.89      0.90      7411\n",
            "           1       0.89      0.91      0.90      7589\n",
            "\n",
            "    accuracy                           0.90     15000\n",
            "   macro avg       0.90      0.90      0.90     15000\n",
            "weighted avg       0.90      0.90      0.90     15000\n",
            "\n",
            "Confusion Matrix: \n",
            " [[6586  825]\n",
            " [ 660 6929]]\n",
            "Accuracy: \n",
            " 0.901\n"
          ]
        }
      ]
    },
    {
      "cell_type": "markdown",
      "source": [
        "Create my reviews. Review 1 is positive. 2 is Negative. 3 is positive. 4 is negative. 5 is neatral."
      ],
      "metadata": {
        "id": "Qrr-XZbxSNfd"
      }
    },
    {
      "cell_type": "code",
      "source": [
        "Reviews = [\"Loves this movie the characters within it were great actors. The cinematography was great, and the plot line was amazing!\",\n",
        "\n",
        "\"I hated this movie what a waste of time. I want my money back from having to watch this terrible movie.\",\n",
        "\n",
        "\"The movie was good overall. But some of the actors were not very good. I did enjoy the ending.\",\n",
        "\n",
        "\"The sound affects were very good but the movie was terrible. The actors didn’t even get their lines right. I hated it.\",\n",
        "\n",
        "\"The actors were good the plot was bad. Overall, a neutral experience.\"]"
      ],
      "metadata": {
        "id": "-kFt2YXS4QFC"
      },
      "execution_count": 7,
      "outputs": []
    },
    {
      "cell_type": "markdown",
      "source": [
        "Gain the predictions of the SVM model regarding my reviews and output them."
      ],
      "metadata": {
        "id": "7n6X6f5GSZ0B"
      }
    },
    {
      "cell_type": "code",
      "source": [
        "xTest = tfidfVector.transform(Reviews)\n",
        "\n",
        "predictions = linearSVC.predict(xTest)\n",
        "\n",
        "print(predictions)"
      ],
      "metadata": {
        "colab": {
          "base_uri": "https://localhost:8080/"
        },
        "id": "zdnQIWxAXsbS",
        "outputId": "5c994ba8-1419-42a1-9b91-84172ca47629"
      },
      "execution_count": 30,
      "outputs": [
        {
          "output_type": "stream",
          "name": "stdout",
          "text": [
            "[1 0 1 0 0]\n"
          ]
        }
      ]
    }
  ]
}